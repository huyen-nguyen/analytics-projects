{
 "cells": [
  {
   "cell_type": "markdown",
   "metadata": {},
   "source": [
    "### Load required Libraries"
   ]
  },
  {
   "cell_type": "code",
   "execution_count": 12,
   "metadata": {},
   "outputs": [],
   "source": [
    "#Import pandas to read the dataset\n",
    "import pandas as pd\n",
    "#Import numpy\n",
    "import numpy as np\n",
    "#Import sklearn for machine learning algorithm\n",
    "import sklearn\n",
    "#Import train_test_split function\n",
    "from sklearn.model_selection import train_test_split\n",
    "#Import Random Forest Classifier\n",
    "from sklearn.ensemble import RandomForestClassifier\n",
    "#Import sklearn metrics module for accuracy calculation\n",
    "from sklearn import metrics\n",
    "#Import classification report module to calculate precision, f1 score, etc.\n",
    "from sklearn.metrics import classification_report\n",
    "#Import confusion matrix module to generate confusion matrix\n",
    "from sklearn.metrics import confusion_matrix\n",
    "#Import SMOTE for Oversampling for imbalanced classification\n",
    "from imblearn.over_sampling import SMOTE\n",
    "#Import MLPClassifier to solve classification problem using Multi-layer Perceptron\n",
    "from sklearn.neural_network import MLPClassifier\n",
    "#Import pyplot for data visualization\n",
    "import matplotlib.pyplot as plt\n",
    "\n",
    "#Disable chained_assignment warning that may distract reading\n",
    "pd.options.mode.chained_assignment = None"
   ]
  },
  {
   "cell_type": "markdown",
   "metadata": {},
   "source": [
    "### Step 1: Obtain Data"
   ]
  },
  {
   "cell_type": "code",
   "execution_count": 5,
   "metadata": {},
   "outputs": [],
   "source": [
    "LoanData = pd.read_csv(\"/Users/phuonglucydoan/Desktop/STUDY/Spring 2020/Courses/8810 - Python in Marketing Analytics/Case Study/Case Study 1/CS1 - LoanData.csv\")"
   ]
  },
  {
   "cell_type": "code",
   "execution_count": 6,
   "metadata": {},
   "outputs": [
    {
     "data": {
      "text/html": [
       "<div>\n",
       "<style scoped>\n",
       "    .dataframe tbody tr th:only-of-type {\n",
       "        vertical-align: middle;\n",
       "    }\n",
       "\n",
       "    .dataframe tbody tr th {\n",
       "        vertical-align: top;\n",
       "    }\n",
       "\n",
       "    .dataframe thead th {\n",
       "        text-align: right;\n",
       "    }\n",
       "</style>\n",
       "<table border=\"1\" class=\"dataframe\">\n",
       "  <thead>\n",
       "    <tr style=\"text-align: right;\">\n",
       "      <th></th>\n",
       "      <th>Age</th>\n",
       "      <th>DebtRatio</th>\n",
       "      <th>LOC</th>\n",
       "      <th>Income</th>\n",
       "      <th>MREL</th>\n",
       "      <th>Dependents</th>\n",
       "      <th>Utilization</th>\n",
       "      <th>30Day</th>\n",
       "      <th>60Day</th>\n",
       "      <th>90Day</th>\n",
       "      <th>Risk</th>\n",
       "    </tr>\n",
       "  </thead>\n",
       "  <tbody>\n",
       "    <tr>\n",
       "      <th>92361</th>\n",
       "      <td>21</td>\n",
       "      <td>34.000000</td>\n",
       "      <td>1</td>\n",
       "      <td>NaN</td>\n",
       "      <td>0</td>\n",
       "      <td>0.0</td>\n",
       "      <td>1.000000</td>\n",
       "      <td>0</td>\n",
       "      <td>0</td>\n",
       "      <td>0</td>\n",
       "      <td>1</td>\n",
       "    </tr>\n",
       "    <tr>\n",
       "      <th>2701</th>\n",
       "      <td>60</td>\n",
       "      <td>0.427234</td>\n",
       "      <td>8</td>\n",
       "      <td>11000.0</td>\n",
       "      <td>2</td>\n",
       "      <td>0.0</td>\n",
       "      <td>0.040603</td>\n",
       "      <td>0</td>\n",
       "      <td>0</td>\n",
       "      <td>0</td>\n",
       "      <td>0</td>\n",
       "    </tr>\n",
       "    <tr>\n",
       "      <th>14215</th>\n",
       "      <td>38</td>\n",
       "      <td>0.430214</td>\n",
       "      <td>11</td>\n",
       "      <td>3216.0</td>\n",
       "      <td>1</td>\n",
       "      <td>3.0</td>\n",
       "      <td>0.185868</td>\n",
       "      <td>0</td>\n",
       "      <td>0</td>\n",
       "      <td>0</td>\n",
       "      <td>1</td>\n",
       "    </tr>\n",
       "    <tr>\n",
       "      <th>81151</th>\n",
       "      <td>56</td>\n",
       "      <td>0.432027</td>\n",
       "      <td>9</td>\n",
       "      <td>6200.0</td>\n",
       "      <td>2</td>\n",
       "      <td>0.0</td>\n",
       "      <td>0.318319</td>\n",
       "      <td>0</td>\n",
       "      <td>0</td>\n",
       "      <td>0</td>\n",
       "      <td>0</td>\n",
       "    </tr>\n",
       "    <tr>\n",
       "      <th>74511</th>\n",
       "      <td>31</td>\n",
       "      <td>0.207647</td>\n",
       "      <td>4</td>\n",
       "      <td>6250.0</td>\n",
       "      <td>0</td>\n",
       "      <td>0.0</td>\n",
       "      <td>0.883178</td>\n",
       "      <td>0</td>\n",
       "      <td>0</td>\n",
       "      <td>0</td>\n",
       "      <td>0</td>\n",
       "    </tr>\n",
       "  </tbody>\n",
       "</table>\n",
       "</div>"
      ],
      "text/plain": [
       "       Age  DebtRatio  LOC   Income  MREL  Dependents   Utilization  30Day  \\\n",
       "92361   21  34.000000    1      NaN     0          0.0     1.000000      0   \n",
       "2701    60   0.427234    8  11000.0     2          0.0     0.040603      0   \n",
       "14215   38   0.430214   11   3216.0     1          3.0     0.185868      0   \n",
       "81151   56   0.432027    9   6200.0     2          0.0     0.318319      0   \n",
       "74511   31   0.207647    4   6250.0     0          0.0     0.883178      0   \n",
       "\n",
       "       60Day  90Day  Risk  \n",
       "92361      0      0     1  \n",
       "2701       0      0     0  \n",
       "14215      0      0     1  \n",
       "81151      0      0     0  \n",
       "74511      0      0     0  "
      ]
     },
     "execution_count": 6,
     "metadata": {},
     "output_type": "execute_result"
    }
   ],
   "source": [
    "LoanData.sample(5)"
   ]
  },
  {
   "cell_type": "markdown",
   "metadata": {},
   "source": [
    "### Step 2: Data pre-processing"
   ]
  },
  {
   "cell_type": "markdown",
   "metadata": {},
   "source": [
    "#### 2.1. Check column names"
   ]
  },
  {
   "cell_type": "code",
   "execution_count": 7,
   "metadata": {},
   "outputs": [
    {
     "data": {
      "text/plain": [
       "Index(['Age', 'DebtRatio', 'LOC', 'Income', 'MREL', 'Dependents ',\n",
       "       'Utilization', '30Day', '60Day', '90Day', 'Risk'],\n",
       "      dtype='object')"
      ]
     },
     "execution_count": 7,
     "metadata": {},
     "output_type": "execute_result"
    }
   ],
   "source": [
    "#Check column names for any typos\n",
    "LoanData.columns"
   ]
  },
  {
   "cell_type": "code",
   "execution_count": 8,
   "metadata": {},
   "outputs": [],
   "source": [
    "#Delete blank spaces in column names\n",
    "LoanData = LoanData.rename(columns={'Dependents ':'Dependents'})"
   ]
  },
  {
   "cell_type": "code",
   "execution_count": 9,
   "metadata": {},
   "outputs": [
    {
     "data": {
      "text/plain": [
       "Index(['Age', 'DebtRatio', 'LOC', 'Income', 'MREL', 'Dependents',\n",
       "       'Utilization', '30Day', '60Day', '90Day', 'Risk'],\n",
       "      dtype='object')"
      ]
     },
     "execution_count": 9,
     "metadata": {},
     "output_type": "execute_result"
    }
   ],
   "source": [
    "LoanData.columns"
   ]
  },
  {
   "cell_type": "markdown",
   "metadata": {},
   "source": [
    "#### 2.2. Handle input errors in data type"
   ]
  },
  {
   "cell_type": "code",
   "execution_count": 10,
   "metadata": {},
   "outputs": [
    {
     "data": {
      "text/html": [
       "<div>\n",
       "<style scoped>\n",
       "    .dataframe tbody tr th:only-of-type {\n",
       "        vertical-align: middle;\n",
       "    }\n",
       "\n",
       "    .dataframe tbody tr th {\n",
       "        vertical-align: top;\n",
       "    }\n",
       "\n",
       "    .dataframe thead th {\n",
       "        text-align: right;\n",
       "    }\n",
       "</style>\n",
       "<table border=\"1\" class=\"dataframe\">\n",
       "  <thead>\n",
       "    <tr style=\"text-align: right;\">\n",
       "      <th></th>\n",
       "      <th>Age</th>\n",
       "      <th>DebtRatio</th>\n",
       "      <th>LOC</th>\n",
       "      <th>Income</th>\n",
       "      <th>MREL</th>\n",
       "      <th>Dependents</th>\n",
       "      <th>Utilization</th>\n",
       "      <th>30Day</th>\n",
       "      <th>60Day</th>\n",
       "      <th>90Day</th>\n",
       "      <th>Risk</th>\n",
       "    </tr>\n",
       "  </thead>\n",
       "  <tbody>\n",
       "    <tr>\n",
       "      <th>count</th>\n",
       "      <td>100000.000000</td>\n",
       "      <td>100000.000000</td>\n",
       "      <td>100000.000000</td>\n",
       "      <td>8.009800e+04</td>\n",
       "      <td>100000.000000</td>\n",
       "      <td>97416.000000</td>\n",
       "      <td>100000.000000</td>\n",
       "      <td>100000.000000</td>\n",
       "      <td>100000.00000</td>\n",
       "      <td>100000.000000</td>\n",
       "      <td>100000.000000</td>\n",
       "    </tr>\n",
       "    <tr>\n",
       "      <th>mean</th>\n",
       "      <td>52.279570</td>\n",
       "      <td>359.624790</td>\n",
       "      <td>8.424920</td>\n",
       "      <td>6.689975e+03</td>\n",
       "      <td>1.016750</td>\n",
       "      <td>0.760358</td>\n",
       "      <td>6.115302</td>\n",
       "      <td>0.418810</td>\n",
       "      <td>0.23807</td>\n",
       "      <td>0.265630</td>\n",
       "      <td>0.066550</td>\n",
       "    </tr>\n",
       "    <tr>\n",
       "      <th>std</th>\n",
       "      <td>14.742859</td>\n",
       "      <td>2339.815864</td>\n",
       "      <td>5.121764</td>\n",
       "      <td>1.637884e+04</td>\n",
       "      <td>1.127538</td>\n",
       "      <td>1.117592</td>\n",
       "      <td>255.249894</td>\n",
       "      <td>4.178854</td>\n",
       "      <td>4.14121</td>\n",
       "      <td>4.156193</td>\n",
       "      <td>0.249242</td>\n",
       "    </tr>\n",
       "    <tr>\n",
       "      <th>min</th>\n",
       "      <td>0.000000</td>\n",
       "      <td>0.000000</td>\n",
       "      <td>0.000000</td>\n",
       "      <td>0.000000e+00</td>\n",
       "      <td>0.000000</td>\n",
       "      <td>0.000000</td>\n",
       "      <td>0.000000</td>\n",
       "      <td>0.000000</td>\n",
       "      <td>0.00000</td>\n",
       "      <td>0.000000</td>\n",
       "      <td>0.000000</td>\n",
       "    </tr>\n",
       "    <tr>\n",
       "      <th>25%</th>\n",
       "      <td>41.000000</td>\n",
       "      <td>0.175075</td>\n",
       "      <td>5.000000</td>\n",
       "      <td>3.400000e+03</td>\n",
       "      <td>0.000000</td>\n",
       "      <td>0.000000</td>\n",
       "      <td>0.030106</td>\n",
       "      <td>0.000000</td>\n",
       "      <td>0.00000</td>\n",
       "      <td>0.000000</td>\n",
       "      <td>0.000000</td>\n",
       "    </tr>\n",
       "    <tr>\n",
       "      <th>50%</th>\n",
       "      <td>52.000000</td>\n",
       "      <td>0.366529</td>\n",
       "      <td>8.000000</td>\n",
       "      <td>5.400000e+03</td>\n",
       "      <td>1.000000</td>\n",
       "      <td>0.000000</td>\n",
       "      <td>0.154768</td>\n",
       "      <td>0.000000</td>\n",
       "      <td>0.00000</td>\n",
       "      <td>0.000000</td>\n",
       "      <td>0.000000</td>\n",
       "    </tr>\n",
       "    <tr>\n",
       "      <th>75%</th>\n",
       "      <td>63.000000</td>\n",
       "      <td>0.874209</td>\n",
       "      <td>11.000000</td>\n",
       "      <td>8.264750e+03</td>\n",
       "      <td>2.000000</td>\n",
       "      <td>1.000000</td>\n",
       "      <td>0.560238</td>\n",
       "      <td>0.000000</td>\n",
       "      <td>0.00000</td>\n",
       "      <td>0.000000</td>\n",
       "      <td>0.000000</td>\n",
       "    </tr>\n",
       "    <tr>\n",
       "      <th>max</th>\n",
       "      <td>109.000000</td>\n",
       "      <td>329664.000000</td>\n",
       "      <td>58.000000</td>\n",
       "      <td>3.008750e+06</td>\n",
       "      <td>54.000000</td>\n",
       "      <td>20.000000</td>\n",
       "      <td>50708.000000</td>\n",
       "      <td>98.000000</td>\n",
       "      <td>98.00000</td>\n",
       "      <td>98.000000</td>\n",
       "      <td>1.000000</td>\n",
       "    </tr>\n",
       "  </tbody>\n",
       "</table>\n",
       "</div>"
      ],
      "text/plain": [
       "                 Age      DebtRatio            LOC        Income  \\\n",
       "count  100000.000000  100000.000000  100000.000000  8.009800e+04   \n",
       "mean       52.279570     359.624790       8.424920  6.689975e+03   \n",
       "std        14.742859    2339.815864       5.121764  1.637884e+04   \n",
       "min         0.000000       0.000000       0.000000  0.000000e+00   \n",
       "25%        41.000000       0.175075       5.000000  3.400000e+03   \n",
       "50%        52.000000       0.366529       8.000000  5.400000e+03   \n",
       "75%        63.000000       0.874209      11.000000  8.264750e+03   \n",
       "max       109.000000  329664.000000      58.000000  3.008750e+06   \n",
       "\n",
       "                MREL    Dependents    Utilization          30Day  \\\n",
       "count  100000.000000  97416.000000  100000.000000  100000.000000   \n",
       "mean        1.016750      0.760358       6.115302       0.418810   \n",
       "std         1.127538      1.117592     255.249894       4.178854   \n",
       "min         0.000000      0.000000       0.000000       0.000000   \n",
       "25%         0.000000      0.000000       0.030106       0.000000   \n",
       "50%         1.000000      0.000000       0.154768       0.000000   \n",
       "75%         2.000000      1.000000       0.560238       0.000000   \n",
       "max        54.000000     20.000000   50708.000000      98.000000   \n",
       "\n",
       "              60Day          90Day           Risk  \n",
       "count  100000.00000  100000.000000  100000.000000  \n",
       "mean        0.23807       0.265630       0.066550  \n",
       "std         4.14121       4.156193       0.249242  \n",
       "min         0.00000       0.000000       0.000000  \n",
       "25%         0.00000       0.000000       0.000000  \n",
       "50%         0.00000       0.000000       0.000000  \n",
       "75%         0.00000       0.000000       0.000000  \n",
       "max        98.00000      98.000000       1.000000  "
      ]
     },
     "execution_count": 10,
     "metadata": {},
     "output_type": "execute_result"
    }
   ],
   "source": [
    "#Data summary\n",
    "LoanData.describe()"
   ]
  },
  {
   "cell_type": "code",
   "execution_count": 13,
   "metadata": {},
   "outputs": [
    {
     "data": {
      "text/html": [
       "<div>\n",
       "<style scoped>\n",
       "    .dataframe tbody tr th:only-of-type {\n",
       "        vertical-align: middle;\n",
       "    }\n",
       "\n",
       "    .dataframe tbody tr th {\n",
       "        vertical-align: top;\n",
       "    }\n",
       "\n",
       "    .dataframe thead th {\n",
       "        text-align: right;\n",
       "    }\n",
       "</style>\n",
       "<table border=\"1\" class=\"dataframe\">\n",
       "  <thead>\n",
       "    <tr style=\"text-align: right;\">\n",
       "      <th></th>\n",
       "      <th>Age</th>\n",
       "      <th>DebtRatio</th>\n",
       "      <th>LOC</th>\n",
       "      <th>Income</th>\n",
       "      <th>MREL</th>\n",
       "      <th>Dependents</th>\n",
       "      <th>Utilization</th>\n",
       "      <th>30Day</th>\n",
       "      <th>60Day</th>\n",
       "      <th>90Day</th>\n",
       "      <th>Risk</th>\n",
       "    </tr>\n",
       "  </thead>\n",
       "  <tbody>\n",
       "    <tr>\n",
       "      <th>count</th>\n",
       "      <td>100000.000000</td>\n",
       "      <td>76507.000000</td>\n",
       "      <td>100000.000000</td>\n",
       "      <td>8.009800e+04</td>\n",
       "      <td>100000.000000</td>\n",
       "      <td>97416.000000</td>\n",
       "      <td>97807.000000</td>\n",
       "      <td>100000.000000</td>\n",
       "      <td>100000.00000</td>\n",
       "      <td>100000.000000</td>\n",
       "      <td>100000.000000</td>\n",
       "    </tr>\n",
       "    <tr>\n",
       "      <th>mean</th>\n",
       "      <td>52.279570</td>\n",
       "      <td>0.302661</td>\n",
       "      <td>8.424920</td>\n",
       "      <td>6.689975e+03</td>\n",
       "      <td>1.016750</td>\n",
       "      <td>0.760358</td>\n",
       "      <td>0.304342</td>\n",
       "      <td>0.418810</td>\n",
       "      <td>0.23807</td>\n",
       "      <td>0.265630</td>\n",
       "      <td>0.066550</td>\n",
       "    </tr>\n",
       "    <tr>\n",
       "      <th>std</th>\n",
       "      <td>14.742859</td>\n",
       "      <td>0.226218</td>\n",
       "      <td>5.121764</td>\n",
       "      <td>1.637884e+04</td>\n",
       "      <td>1.127538</td>\n",
       "      <td>1.117592</td>\n",
       "      <td>0.338206</td>\n",
       "      <td>4.178854</td>\n",
       "      <td>4.14121</td>\n",
       "      <td>4.156193</td>\n",
       "      <td>0.249242</td>\n",
       "    </tr>\n",
       "    <tr>\n",
       "      <th>min</th>\n",
       "      <td>0.000000</td>\n",
       "      <td>0.000000</td>\n",
       "      <td>0.000000</td>\n",
       "      <td>0.000000e+00</td>\n",
       "      <td>0.000000</td>\n",
       "      <td>0.000000</td>\n",
       "      <td>0.000000</td>\n",
       "      <td>0.000000</td>\n",
       "      <td>0.00000</td>\n",
       "      <td>0.000000</td>\n",
       "      <td>0.000000</td>\n",
       "    </tr>\n",
       "    <tr>\n",
       "      <th>25%</th>\n",
       "      <td>41.000000</td>\n",
       "      <td>0.125853</td>\n",
       "      <td>5.000000</td>\n",
       "      <td>3.400000e+03</td>\n",
       "      <td>0.000000</td>\n",
       "      <td>0.000000</td>\n",
       "      <td>0.028822</td>\n",
       "      <td>0.000000</td>\n",
       "      <td>0.00000</td>\n",
       "      <td>0.000000</td>\n",
       "      <td>0.000000</td>\n",
       "    </tr>\n",
       "    <tr>\n",
       "      <th>50%</th>\n",
       "      <td>52.000000</td>\n",
       "      <td>0.273918</td>\n",
       "      <td>8.000000</td>\n",
       "      <td>5.400000e+03</td>\n",
       "      <td>1.000000</td>\n",
       "      <td>0.000000</td>\n",
       "      <td>0.144825</td>\n",
       "      <td>0.000000</td>\n",
       "      <td>0.00000</td>\n",
       "      <td>0.000000</td>\n",
       "      <td>0.000000</td>\n",
       "    </tr>\n",
       "    <tr>\n",
       "      <th>75%</th>\n",
       "      <td>63.000000</td>\n",
       "      <td>0.437171</td>\n",
       "      <td>11.000000</td>\n",
       "      <td>8.264750e+03</td>\n",
       "      <td>2.000000</td>\n",
       "      <td>1.000000</td>\n",
       "      <td>0.521300</td>\n",
       "      <td>0.000000</td>\n",
       "      <td>0.00000</td>\n",
       "      <td>0.000000</td>\n",
       "      <td>0.000000</td>\n",
       "    </tr>\n",
       "    <tr>\n",
       "      <th>max</th>\n",
       "      <td>109.000000</td>\n",
       "      <td>1.000000</td>\n",
       "      <td>58.000000</td>\n",
       "      <td>3.008750e+06</td>\n",
       "      <td>54.000000</td>\n",
       "      <td>20.000000</td>\n",
       "      <td>1.000000</td>\n",
       "      <td>98.000000</td>\n",
       "      <td>98.00000</td>\n",
       "      <td>98.000000</td>\n",
       "      <td>1.000000</td>\n",
       "    </tr>\n",
       "  </tbody>\n",
       "</table>\n",
       "</div>"
      ],
      "text/plain": [
       "                 Age     DebtRatio            LOC        Income  \\\n",
       "count  100000.000000  76507.000000  100000.000000  8.009800e+04   \n",
       "mean       52.279570      0.302661       8.424920  6.689975e+03   \n",
       "std        14.742859      0.226218       5.121764  1.637884e+04   \n",
       "min         0.000000      0.000000       0.000000  0.000000e+00   \n",
       "25%        41.000000      0.125853       5.000000  3.400000e+03   \n",
       "50%        52.000000      0.273918       8.000000  5.400000e+03   \n",
       "75%        63.000000      0.437171      11.000000  8.264750e+03   \n",
       "max       109.000000      1.000000      58.000000  3.008750e+06   \n",
       "\n",
       "                MREL    Dependents   Utilization          30Day         60Day  \\\n",
       "count  100000.000000  97416.000000  97807.000000  100000.000000  100000.00000   \n",
       "mean        1.016750      0.760358      0.304342       0.418810       0.23807   \n",
       "std         1.127538      1.117592      0.338206       4.178854       4.14121   \n",
       "min         0.000000      0.000000      0.000000       0.000000       0.00000   \n",
       "25%         0.000000      0.000000      0.028822       0.000000       0.00000   \n",
       "50%         1.000000      0.000000      0.144825       0.000000       0.00000   \n",
       "75%         2.000000      1.000000      0.521300       0.000000       0.00000   \n",
       "max        54.000000     20.000000      1.000000      98.000000      98.00000   \n",
       "\n",
       "               90Day           Risk  \n",
       "count  100000.000000  100000.000000  \n",
       "mean        0.265630       0.066550  \n",
       "std         4.156193       0.249242  \n",
       "min         0.000000       0.000000  \n",
       "25%         0.000000       0.000000  \n",
       "50%         0.000000       0.000000  \n",
       "75%         0.000000       0.000000  \n",
       "max        98.000000       1.000000  "
      ]
     },
     "execution_count": 13,
     "metadata": {},
     "output_type": "execute_result"
    }
   ],
   "source": [
    "#Since maximum values of Debt Ratio and Utilization are bigger than 1 while they should not, there must be input errors\n",
    "#Convert any bigger-than-1 value of DebtRatio and Utilization variables into null values\n",
    "for i in range(0,len(LoanData)):\n",
    "    for f in ['DebtRatio','Utilization']:\n",
    "        if LoanData[f][i] > 1:\n",
    "            LoanData[f][i] = np.nan\n",
    "            \n",
    "LoanData.describe()"
   ]
  },
  {
   "cell_type": "code",
   "execution_count": 14,
   "metadata": {},
   "outputs": [
    {
     "data": {
      "text/plain": [
       "Age              int64\n",
       "DebtRatio      float64\n",
       "LOC              int64\n",
       "Income         float64\n",
       "MREL             int64\n",
       "Dependents     float64\n",
       "Utilization    float64\n",
       "30Day            int64\n",
       "60Day            int64\n",
       "90Day            int64\n",
       "Risk             int64\n",
       "dtype: object"
      ]
     },
     "execution_count": 14,
     "metadata": {},
     "output_type": "execute_result"
    }
   ],
   "source": [
    "#Check data types\n",
    "LoanData.dtypes"
   ]
  },
  {
   "cell_type": "code",
   "execution_count": 15,
   "metadata": {},
   "outputs": [
    {
     "name": "stdout",
     "output_type": "stream",
     "text": [
      "There are 0 decimal values and 2584 null values\n"
     ]
    }
   ],
   "source": [
    "#Since Dependents variable should be integer, let's check if there is any decimal value in this variable\n",
    "a=0\n",
    "b=0\n",
    "for i in range(0,len(LoanData)):\n",
    "    if np.isnan(LoanData['Dependents'][i]):\n",
    "        b+=1\n",
    "    elif LoanData['Dependents'][i] %1 != 0:\n",
    "        a+=1\n",
    "print(\"There are\", a, \"decimal values and\", b, \"null values\")"
   ]
  },
  {
   "cell_type": "code",
   "execution_count": 16,
   "metadata": {},
   "outputs": [],
   "source": [
    "#Since Dependent variable has missing values, we'll change its data type after handing these missing values"
   ]
  },
  {
   "cell_type": "markdown",
   "metadata": {},
   "source": [
    "#### 2.3. Handle missing data"
   ]
  },
  {
   "cell_type": "code",
   "execution_count": 17,
   "metadata": {},
   "outputs": [
    {
     "data": {
      "text/plain": [
       "Age                0\n",
       "DebtRatio      23493\n",
       "LOC                0\n",
       "Income         19902\n",
       "MREL               0\n",
       "Dependents      2584\n",
       "Utilization     2193\n",
       "30Day              0\n",
       "60Day              0\n",
       "90Day              0\n",
       "Risk               0\n",
       "dtype: int64"
      ]
     },
     "execution_count": 17,
     "metadata": {},
     "output_type": "execute_result"
    }
   ],
   "source": [
    "#Count missing values in each variable\n",
    "LoanData.isnull().sum()"
   ]
  },
  {
   "cell_type": "markdown",
   "metadata": {},
   "source": [
    "- LoanData1"
   ]
  },
  {
   "cell_type": "code",
   "execution_count": 18,
   "metadata": {},
   "outputs": [],
   "source": [
    "#Discard incomplete rows to create the first cleaned dataset named \"LoanData1\"\n",
    "LoanData1 = LoanData.dropna()"
   ]
  },
  {
   "cell_type": "code",
   "execution_count": 19,
   "metadata": {},
   "outputs": [
    {
     "data": {
      "text/plain": [
       "Age            0\n",
       "DebtRatio      0\n",
       "LOC            0\n",
       "Income         0\n",
       "MREL           0\n",
       "Dependents     0\n",
       "Utilization    0\n",
       "30Day          0\n",
       "60Day          0\n",
       "90Day          0\n",
       "Risk           0\n",
       "dtype: int64"
      ]
     },
     "execution_count": 19,
     "metadata": {},
     "output_type": "execute_result"
    }
   ],
   "source": [
    "LoanData1.isnull().sum()"
   ]
  },
  {
   "cell_type": "code",
   "execution_count": 20,
   "metadata": {},
   "outputs": [],
   "source": [
    "#Change Dependents variable from float type to integer type\n",
    "LoanData1[\"Dependents\"] = LoanData1[\"Dependents\"].astype(\"int64\")"
   ]
  },
  {
   "cell_type": "code",
   "execution_count": 21,
   "metadata": {},
   "outputs": [
    {
     "data": {
      "text/plain": [
       "Age              int64\n",
       "DebtRatio      float64\n",
       "LOC              int64\n",
       "Income         float64\n",
       "MREL             int64\n",
       "Dependents       int64\n",
       "Utilization    float64\n",
       "30Day            int64\n",
       "60Day            int64\n",
       "90Day            int64\n",
       "Risk             int64\n",
       "dtype: object"
      ]
     },
     "execution_count": 21,
     "metadata": {},
     "output_type": "execute_result"
    }
   ],
   "source": [
    "LoanData1.dtypes"
   ]
  },
  {
   "cell_type": "markdown",
   "metadata": {},
   "source": [
    "- LoanData2"
   ]
  },
  {
   "cell_type": "code",
   "execution_count": 22,
   "metadata": {},
   "outputs": [],
   "source": [
    "#Create 2nd cleaned dataset named \"LoanData2\" which is copied from LoanData\n",
    "LoanData2 = LoanData.copy()"
   ]
  },
  {
   "cell_type": "code",
   "execution_count": 23,
   "metadata": {},
   "outputs": [
    {
     "name": "stdout",
     "output_type": "stream",
     "text": [
      "The Debt Ratio variable contains 23.0 % missing values\n",
      "The Income variable contains 20.0 % missing values\n",
      "The Dependents variable contains 3.0 % missing values\n",
      "The Utilization variable contains 2.0 % missing values\n"
     ]
    }
   ],
   "source": [
    "#Calculate the percentage of missing values in each variable\n",
    "print(\"The Debt Ratio variable contains\",\n",
    "      round((LoanData2.Age.count() - LoanData2.DebtRatio.count())/ LoanData2.Age.count() *100),\n",
    "      \"%\",\"missing values\")\n",
    "print(\"The Income variable contains\",\n",
    "      round((LoanData2.Age.count() - LoanData2.Income.count())/ LoanData2.Age.count() *100),\n",
    "      \"%\",\"missing values\")\n",
    "print(\"The Dependents variable contains\",\n",
    "      round((LoanData2.Age.count() - LoanData2.Dependents.count())/ LoanData2.Age.count() *100),\n",
    "      \"%\",\"missing values\")\n",
    "print(\"The Utilization variable contains\",\n",
    "      round((LoanData2.Age.count() - LoanData2.Utilization.count())/ LoanData2.Age.count() *100),\n",
    "      \"%\",\"missing values\")"
   ]
  },
  {
   "cell_type": "code",
   "execution_count": 24,
   "metadata": {},
   "outputs": [],
   "source": [
    "#Delete the Debt Ratio and Income variable because it has more than 10% missing values\n",
    "LoanData2 = LoanData2.drop([\"DebtRatio\",\"Income\"], axis=1)"
   ]
  },
  {
   "cell_type": "code",
   "execution_count": 25,
   "metadata": {},
   "outputs": [],
   "source": [
    "#For Dependents and Utilization variables, impute missing values with their median value\n",
    "LoanData2[\"Dependents\"] = LoanData2.fillna(LoanData2[\"Dependents\"].median())\n",
    "LoanData2[\"Utilization\"] = LoanData2.fillna(LoanData2[\"Utilization\"].median())"
   ]
  },
  {
   "cell_type": "code",
   "execution_count": 26,
   "metadata": {},
   "outputs": [
    {
     "data": {
      "text/plain": [
       "Age            0\n",
       "LOC            0\n",
       "MREL           0\n",
       "Dependents     0\n",
       "Utilization    0\n",
       "30Day          0\n",
       "60Day          0\n",
       "90Day          0\n",
       "Risk           0\n",
       "dtype: int64"
      ]
     },
     "execution_count": 26,
     "metadata": {},
     "output_type": "execute_result"
    }
   ],
   "source": [
    "LoanData2.isnull().sum()"
   ]
  },
  {
   "cell_type": "code",
   "execution_count": 27,
   "metadata": {},
   "outputs": [],
   "source": [
    "#Change Dependents variable from float type to integer type\n",
    "LoanData2[\"Dependents\"] = LoanData2[\"Dependents\"].astype(\"int64\")"
   ]
  },
  {
   "cell_type": "code",
   "execution_count": 28,
   "metadata": {},
   "outputs": [
    {
     "data": {
      "text/plain": [
       "Age              int64\n",
       "LOC              int64\n",
       "MREL             int64\n",
       "Dependents       int64\n",
       "Utilization    float64\n",
       "30Day            int64\n",
       "60Day            int64\n",
       "90Day            int64\n",
       "Risk             int64\n",
       "dtype: object"
      ]
     },
     "execution_count": 28,
     "metadata": {},
     "output_type": "execute_result"
    }
   ],
   "source": [
    "LoanData2.dtypes"
   ]
  },
  {
   "cell_type": "markdown",
   "metadata": {},
   "source": [
    "#### 2.4. Handle imbalanced dataset"
   ]
  },
  {
   "cell_type": "markdown",
   "metadata": {},
   "source": [
    "- LoanData3"
   ]
  },
  {
   "cell_type": "code",
   "execution_count": 29,
   "metadata": {},
   "outputs": [
    {
     "data": {
      "text/plain": [
       "<matplotlib.legend.Legend at 0x1a1c574e50>"
      ]
     },
     "execution_count": 29,
     "metadata": {},
     "output_type": "execute_result"
    },
    {
     "data": {
      "image/png": "[encoded data removed]",
      "text/plain": [
       "<Figure size 432x288 with 1 Axes>"
      ]
     },
     "metadata": {},
     "output_type": "display_data"
    }
   ],
   "source": [
    "#The pie chart shows imbalanced dataset with a ratio of 1(high risk):15(low risk)\n",
    "LoanData2.Risk.value_counts().plot.pie(autopct='%1.1f%%', title=\"The Risk of Borrowers\")\n",
    "plt.legend((\"low risk\",\"high risk\"))"
   ]
  },
  {
   "cell_type": "code",
   "execution_count": 30,
   "metadata": {},
   "outputs": [],
   "source": [
    "#Upsampling, using SMOTE library, by increasing the minority class (1 - high risk)\n",
    "X = pd.DataFrame(LoanData2.iloc[:,:-1])\n",
    "y = pd.DataFrame(LoanData2.iloc[:,-1])\n",
    "\n",
    "sm = SMOTE(random_state=8810, sampling_strategy = 0.2) #Ratio of minority:majority = 1:5\n",
    "X_res, y_res = sm.fit_sample(X,y)"
   ]
  },
  {
   "cell_type": "code",
   "execution_count": 31,
   "metadata": {},
   "outputs": [
    {
     "name": "stdout",
     "output_type": "stream",
     "text": [
      "For every 1 high risk, there will be 5.0 low risk\n"
     ]
    }
   ],
   "source": [
    "#Check the ratio after resampling to see if we obtain the desired ratio\n",
    "print(\"For every 1 high risk, there will be\",\n",
    "      len(y_res[y_res.Risk == 0]) / len(y_res[y_res.Risk == 1]), \"low risk\")"
   ]
  },
  {
   "cell_type": "code",
   "execution_count": 32,
   "metadata": {},
   "outputs": [],
   "source": [
    "#Create LoanData3 by merging horizontally 2 dataframes X_res and y_res\n",
    "LoanData3 = pd.concat([X_res,y_res], axis=1)"
   ]
  },
  {
   "cell_type": "code",
   "execution_count": 33,
   "metadata": {},
   "outputs": [
    {
     "data": {
      "text/plain": [
       "Age            0\n",
       "LOC            0\n",
       "MREL           0\n",
       "Dependents     0\n",
       "Utilization    0\n",
       "30Day          0\n",
       "60Day          0\n",
       "90Day          0\n",
       "Risk           0\n",
       "dtype: int64"
      ]
     },
     "execution_count": 33,
     "metadata": {},
     "output_type": "execute_result"
    }
   ],
   "source": [
    "LoanData3.isnull().sum()"
   ]
  },
  {
   "cell_type": "markdown",
   "metadata": {},
   "source": [
    "### Step 3: Split the processed data into training and testing data"
   ]
  },
  {
   "cell_type": "code",
   "execution_count": 34,
   "metadata": {},
   "outputs": [],
   "source": [
    "#For LoanData1 dataset\n",
    "X1 = pd.DataFrame(LoanData1.iloc[:,:-1])\n",
    "y1 = pd.DataFrame(LoanData1.iloc[:,-1])\n",
    "\n",
    "X_train1, X_test1, y_train1, y_test1=train_test_split(X1,y1, test_size=0.3, random_state=8810)"
   ]
  },
  {
   "cell_type": "code",
   "execution_count": 35,
   "metadata": {},
   "outputs": [],
   "source": [
    "#For LoanData2 dataset\n",
    "X2 = pd.DataFrame(LoanData2.iloc[:,:-1])\n",
    "y2 = pd.DataFrame(LoanData2.iloc[:,-1])\n",
    "\n",
    "X_train2, X_test2, y_train2, y_test2=train_test_split(X2,y2, test_size=0.3, random_state=8810)"
   ]
  },
  {
   "cell_type": "code",
   "execution_count": 36,
   "metadata": {},
   "outputs": [],
   "source": [
    "#For LoanData3 dataset\n",
    "X3 = pd.DataFrame(LoanData3.iloc[:,:-1])\n",
    "y3 = pd.DataFrame(LoanData3.iloc[:,-1])\n",
    "\n",
    "X_train3, X_test3, y_train3, y_test3=train_test_split(X3,y3, test_size=0.3, random_state=8810)"
   ]
  },
  {
   "cell_type": "markdown",
   "metadata": {},
   "source": [
    "### Step 4: Learn from training datasets"
   ]
  },
  {
   "cell_type": "markdown",
   "metadata": {},
   "source": [
    "#### 4.1. Random Forest Classifier"
   ]
  },
  {
   "cell_type": "code",
   "execution_count": 37,
   "metadata": {},
   "outputs": [
    {
     "name": "stderr",
     "output_type": "stream",
     "text": [
      "/opt/anaconda3/lib/python3.7/site-packages/ipykernel_launcher.py:3: DataConversionWarning: A column-vector y was passed when a 1d array was expected. Please change the shape of y to (n_samples,), for example using ravel().\n",
      "  This is separate from the ipykernel package so we can avoid doing imports until\n",
      "/opt/anaconda3/lib/python3.7/site-packages/ipykernel_launcher.py:7: DataConversionWarning: A column-vector y was passed when a 1d array was expected. Please change the shape of y to (n_samples,), for example using ravel().\n",
      "  import sys\n",
      "/opt/anaconda3/lib/python3.7/site-packages/ipykernel_launcher.py:11: DataConversionWarning: A column-vector y was passed when a 1d array was expected. Please change the shape of y to (n_samples,), for example using ravel().\n",
      "  # This is added back by InteractiveShellApp.init_path()\n"
     ]
    }
   ],
   "source": [
    "#For LoanData1 dataset\n",
    "RF1_class = RandomForestClassifier(n_estimators=50)\n",
    "RF1_class = RF1_class.fit(X_train1, y_train1)\n",
    "\n",
    "#For LoanData2 dataset\n",
    "RF2_class = RandomForestClassifier(n_estimators=50)\n",
    "RF2_class = RF2_class.fit(X_train2, y_train2)\n",
    "\n",
    "#For LoanData3 dataset\n",
    "RF3_class = RandomForestClassifier(n_estimators=50)\n",
    "RF3_class = RF3_class.fit(X_train3, y_train3)"
   ]
  },
  {
   "cell_type": "markdown",
   "metadata": {},
   "source": [
    "#### 4.2. Multi-layer Perceptron Classifier"
   ]
  },
  {
   "cell_type": "code",
   "execution_count": 39,
   "metadata": {
    "scrolled": false
   },
   "outputs": [
    {
     "name": "stderr",
     "output_type": "stream",
     "text": [
      "/opt/anaconda3/lib/python3.7/site-packages/sklearn/neural_network/_multilayer_perceptron.py:934: DataConversionWarning: A column-vector y was passed when a 1d array was expected. Please change the shape of y to (n_samples, ), for example using ravel().\n",
      "  y = column_or_1d(y, warn=True)\n",
      "/opt/anaconda3/lib/python3.7/site-packages/sklearn/neural_network/_multilayer_perceptron.py:934: DataConversionWarning: A column-vector y was passed when a 1d array was expected. Please change the shape of y to (n_samples, ), for example using ravel().\n",
      "  y = column_or_1d(y, warn=True)\n",
      "/opt/anaconda3/lib/python3.7/site-packages/sklearn/neural_network/_multilayer_perceptron.py:934: DataConversionWarning: A column-vector y was passed when a 1d array was expected. Please change the shape of y to (n_samples, ), for example using ravel().\n",
      "  y = column_or_1d(y, warn=True)\n",
      "/opt/anaconda3/lib/python3.7/site-packages/sklearn/neural_network/_multilayer_perceptron.py:934: DataConversionWarning: A column-vector y was passed when a 1d array was expected. Please change the shape of y to (n_samples, ), for example using ravel().\n",
      "  y = column_or_1d(y, warn=True)\n",
      "/opt/anaconda3/lib/python3.7/site-packages/sklearn/neural_network/_multilayer_perceptron.py:934: DataConversionWarning: A column-vector y was passed when a 1d array was expected. Please change the shape of y to (n_samples, ), for example using ravel().\n",
      "  y = column_or_1d(y, warn=True)\n",
      "/opt/anaconda3/lib/python3.7/site-packages/sklearn/neural_network/_multilayer_perceptron.py:934: DataConversionWarning: A column-vector y was passed when a 1d array was expected. Please change the shape of y to (n_samples, ), for example using ravel().\n",
      "  y = column_or_1d(y, warn=True)\n",
      "/opt/anaconda3/lib/python3.7/site-packages/sklearn/neural_network/_multilayer_perceptron.py:934: DataConversionWarning: A column-vector y was passed when a 1d array was expected. Please change the shape of y to (n_samples, ), for example using ravel().\n",
      "  y = column_or_1d(y, warn=True)\n",
      "/opt/anaconda3/lib/python3.7/site-packages/sklearn/neural_network/_multilayer_perceptron.py:934: DataConversionWarning: A column-vector y was passed when a 1d array was expected. Please change the shape of y to (n_samples, ), for example using ravel().\n",
      "  y = column_or_1d(y, warn=True)\n",
      "/opt/anaconda3/lib/python3.7/site-packages/sklearn/neural_network/_multilayer_perceptron.py:934: DataConversionWarning: A column-vector y was passed when a 1d array was expected. Please change the shape of y to (n_samples, ), for example using ravel().\n",
      "  y = column_or_1d(y, warn=True)\n",
      "/opt/anaconda3/lib/python3.7/site-packages/sklearn/neural_network/_multilayer_perceptron.py:934: DataConversionWarning: A column-vector y was passed when a 1d array was expected. Please change the shape of y to (n_samples, ), for example using ravel().\n",
      "  y = column_or_1d(y, warn=True)\n",
      "/opt/anaconda3/lib/python3.7/site-packages/sklearn/neural_network/_multilayer_perceptron.py:934: DataConversionWarning: A column-vector y was passed when a 1d array was expected. Please change the shape of y to (n_samples, ), for example using ravel().\n",
      "  y = column_or_1d(y, warn=True)\n",
      "/opt/anaconda3/lib/python3.7/site-packages/sklearn/neural_network/_multilayer_perceptron.py:934: DataConversionWarning: A column-vector y was passed when a 1d array was expected. Please change the shape of y to (n_samples, ), for example using ravel().\n",
      "  y = column_or_1d(y, warn=True)\n",
      "/opt/anaconda3/lib/python3.7/site-packages/sklearn/neural_network/_multilayer_perceptron.py:934: DataConversionWarning: A column-vector y was passed when a 1d array was expected. Please change the shape of y to (n_samples, ), for example using ravel().\n",
      "  y = column_or_1d(y, warn=True)\n",
      "/opt/anaconda3/lib/python3.7/site-packages/sklearn/neural_network/_multilayer_perceptron.py:934: DataConversionWarning: A column-vector y was passed when a 1d array was expected. Please change the shape of y to (n_samples, ), for example using ravel().\n",
      "  y = column_or_1d(y, warn=True)\n",
      "/opt/anaconda3/lib/python3.7/site-packages/sklearn/neural_network/_multilayer_perceptron.py:934: DataConversionWarning: A column-vector y was passed when a 1d array was expected. Please change the shape of y to (n_samples, ), for example using ravel().\n",
      "  y = column_or_1d(y, warn=True)\n",
      "/opt/anaconda3/lib/python3.7/site-packages/sklearn/neural_network/_multilayer_perceptron.py:934: DataConversionWarning: A column-vector y was passed when a 1d array was expected. Please change the shape of y to (n_samples, ), for example using ravel().\n",
      "  y = column_or_1d(y, warn=True)\n",
      "/opt/anaconda3/lib/python3.7/site-packages/sklearn/neural_network/_multilayer_perceptron.py:934: DataConversionWarning: A column-vector y was passed when a 1d array was expected. Please change the shape of y to (n_samples, ), for example using ravel().\n",
      "  y = column_or_1d(y, warn=True)\n",
      "/opt/anaconda3/lib/python3.7/site-packages/sklearn/neural_network/_multilayer_perceptron.py:934: DataConversionWarning: A column-vector y was passed when a 1d array was expected. Please change the shape of y to (n_samples, ), for example using ravel().\n",
      "  y = column_or_1d(y, warn=True)\n",
      "/opt/anaconda3/lib/python3.7/site-packages/sklearn/neural_network/_multilayer_perceptron.py:934: DataConversionWarning: A column-vector y was passed when a 1d array was expected. Please change the shape of y to (n_samples, ), for example using ravel().\n",
      "  y = column_or_1d(y, warn=True)\n",
      "/opt/anaconda3/lib/python3.7/site-packages/sklearn/neural_network/_multilayer_perceptron.py:934: DataConversionWarning: A column-vector y was passed when a 1d array was expected. Please change the shape of y to (n_samples, ), for example using ravel().\n",
      "  y = column_or_1d(y, warn=True)\n",
      "/opt/anaconda3/lib/python3.7/site-packages/sklearn/neural_network/_multilayer_perceptron.py:934: DataConversionWarning: A column-vector y was passed when a 1d array was expected. Please change the shape of y to (n_samples, ), for example using ravel().\n",
      "  y = column_or_1d(y, warn=True)\n",
      "/opt/anaconda3/lib/python3.7/site-packages/sklearn/neural_network/_multilayer_perceptron.py:934: DataConversionWarning: A column-vector y was passed when a 1d array was expected. Please change the shape of y to (n_samples, ), for example using ravel().\n",
      "  y = column_or_1d(y, warn=True)\n",
      "/opt/anaconda3/lib/python3.7/site-packages/sklearn/neural_network/_multilayer_perceptron.py:934: DataConversionWarning: A column-vector y was passed when a 1d array was expected. Please change the shape of y to (n_samples, ), for example using ravel().\n",
      "  y = column_or_1d(y, warn=True)\n",
      "/opt/anaconda3/lib/python3.7/site-packages/sklearn/neural_network/_multilayer_perceptron.py:934: DataConversionWarning: A column-vector y was passed when a 1d array was expected. Please change the shape of y to (n_samples, ), for example using ravel().\n",
      "  y = column_or_1d(y, warn=True)\n",
      "/opt/anaconda3/lib/python3.7/site-packages/sklearn/neural_network/_multilayer_perceptron.py:934: DataConversionWarning: A column-vector y was passed when a 1d array was expected. Please change the shape of y to (n_samples, ), for example using ravel().\n",
      "  y = column_or_1d(y, warn=True)\n",
      "/opt/anaconda3/lib/python3.7/site-packages/sklearn/neural_network/_multilayer_perceptron.py:934: DataConversionWarning: A column-vector y was passed when a 1d array was expected. Please change the shape of y to (n_samples, ), for example using ravel().\n",
      "  y = column_or_1d(y, warn=True)\n",
      "/opt/anaconda3/lib/python3.7/site-packages/sklearn/neural_network/_multilayer_perceptron.py:934: DataConversionWarning: A column-vector y was passed when a 1d array was expected. Please change the shape of y to (n_samples, ), for example using ravel().\n",
      "  y = column_or_1d(y, warn=True)\n",
      "/opt/anaconda3/lib/python3.7/site-packages/sklearn/neural_network/_multilayer_perceptron.py:934: DataConversionWarning: A column-vector y was passed when a 1d array was expected. Please change the shape of y to (n_samples, ), for example using ravel().\n",
      "  y = column_or_1d(y, warn=True)\n",
      "/opt/anaconda3/lib/python3.7/site-packages/sklearn/neural_network/_multilayer_perceptron.py:934: DataConversionWarning: A column-vector y was passed when a 1d array was expected. Please change the shape of y to (n_samples, ), for example using ravel().\n",
      "  y = column_or_1d(y, warn=True)\n",
      "/opt/anaconda3/lib/python3.7/site-packages/sklearn/neural_network/_multilayer_perceptron.py:934: DataConversionWarning: A column-vector y was passed when a 1d array was expected. Please change the shape of y to (n_samples, ), for example using ravel().\n",
      "  y = column_or_1d(y, warn=True)\n",
      "/opt/anaconda3/lib/python3.7/site-packages/sklearn/neural_network/_multilayer_perceptron.py:934: DataConversionWarning: A column-vector y was passed when a 1d array was expected. Please change the shape of y to (n_samples, ), for example using ravel().\n",
      "  y = column_or_1d(y, warn=True)\n"
     ]
    },
    {
     "name": "stderr",
     "output_type": "stream",
     "text": [
      "/opt/anaconda3/lib/python3.7/site-packages/sklearn/neural_network/_multilayer_perceptron.py:934: DataConversionWarning: A column-vector y was passed when a 1d array was expected. Please change the shape of y to (n_samples, ), for example using ravel().\n",
      "  y = column_or_1d(y, warn=True)\n",
      "/opt/anaconda3/lib/python3.7/site-packages/sklearn/neural_network/_multilayer_perceptron.py:934: DataConversionWarning: A column-vector y was passed when a 1d array was expected. Please change the shape of y to (n_samples, ), for example using ravel().\n",
      "  y = column_or_1d(y, warn=True)\n",
      "/opt/anaconda3/lib/python3.7/site-packages/sklearn/neural_network/_multilayer_perceptron.py:934: DataConversionWarning: A column-vector y was passed when a 1d array was expected. Please change the shape of y to (n_samples, ), for example using ravel().\n",
      "  y = column_or_1d(y, warn=True)\n",
      "/opt/anaconda3/lib/python3.7/site-packages/sklearn/neural_network/_multilayer_perceptron.py:934: DataConversionWarning: A column-vector y was passed when a 1d array was expected. Please change the shape of y to (n_samples, ), for example using ravel().\n",
      "  y = column_or_1d(y, warn=True)\n",
      "/opt/anaconda3/lib/python3.7/site-packages/sklearn/neural_network/_multilayer_perceptron.py:934: DataConversionWarning: A column-vector y was passed when a 1d array was expected. Please change the shape of y to (n_samples, ), for example using ravel().\n",
      "  y = column_or_1d(y, warn=True)\n",
      "/opt/anaconda3/lib/python3.7/site-packages/sklearn/neural_network/_multilayer_perceptron.py:934: DataConversionWarning: A column-vector y was passed when a 1d array was expected. Please change the shape of y to (n_samples, ), for example using ravel().\n",
      "  y = column_or_1d(y, warn=True)\n",
      "/opt/anaconda3/lib/python3.7/site-packages/sklearn/neural_network/_multilayer_perceptron.py:934: DataConversionWarning: A column-vector y was passed when a 1d array was expected. Please change the shape of y to (n_samples, ), for example using ravel().\n",
      "  y = column_or_1d(y, warn=True)\n",
      "/opt/anaconda3/lib/python3.7/site-packages/sklearn/neural_network/_multilayer_perceptron.py:934: DataConversionWarning: A column-vector y was passed when a 1d array was expected. Please change the shape of y to (n_samples, ), for example using ravel().\n",
      "  y = column_or_1d(y, warn=True)\n",
      "/opt/anaconda3/lib/python3.7/site-packages/sklearn/neural_network/_multilayer_perceptron.py:934: DataConversionWarning: A column-vector y was passed when a 1d array was expected. Please change the shape of y to (n_samples, ), for example using ravel().\n",
      "  y = column_or_1d(y, warn=True)\n",
      "/opt/anaconda3/lib/python3.7/site-packages/sklearn/neural_network/_multilayer_perceptron.py:934: DataConversionWarning: A column-vector y was passed when a 1d array was expected. Please change the shape of y to (n_samples, ), for example using ravel().\n",
      "  y = column_or_1d(y, warn=True)\n",
      "/opt/anaconda3/lib/python3.7/site-packages/sklearn/neural_network/_multilayer_perceptron.py:934: DataConversionWarning: A column-vector y was passed when a 1d array was expected. Please change the shape of y to (n_samples, ), for example using ravel().\n",
      "  y = column_or_1d(y, warn=True)\n",
      "/opt/anaconda3/lib/python3.7/site-packages/sklearn/neural_network/_multilayer_perceptron.py:934: DataConversionWarning: A column-vector y was passed when a 1d array was expected. Please change the shape of y to (n_samples, ), for example using ravel().\n",
      "  y = column_or_1d(y, warn=True)\n",
      "/opt/anaconda3/lib/python3.7/site-packages/sklearn/neural_network/_multilayer_perceptron.py:934: DataConversionWarning: A column-vector y was passed when a 1d array was expected. Please change the shape of y to (n_samples, ), for example using ravel().\n",
      "  y = column_or_1d(y, warn=True)\n",
      "/opt/anaconda3/lib/python3.7/site-packages/sklearn/neural_network/_multilayer_perceptron.py:934: DataConversionWarning: A column-vector y was passed when a 1d array was expected. Please change the shape of y to (n_samples, ), for example using ravel().\n",
      "  y = column_or_1d(y, warn=True)\n",
      "/opt/anaconda3/lib/python3.7/site-packages/sklearn/neural_network/_multilayer_perceptron.py:934: DataConversionWarning: A column-vector y was passed when a 1d array was expected. Please change the shape of y to (n_samples, ), for example using ravel().\n",
      "  y = column_or_1d(y, warn=True)\n",
      "/opt/anaconda3/lib/python3.7/site-packages/sklearn/neural_network/_multilayer_perceptron.py:934: DataConversionWarning: A column-vector y was passed when a 1d array was expected. Please change the shape of y to (n_samples, ), for example using ravel().\n",
      "  y = column_or_1d(y, warn=True)\n",
      "/opt/anaconda3/lib/python3.7/site-packages/sklearn/neural_network/_multilayer_perceptron.py:934: DataConversionWarning: A column-vector y was passed when a 1d array was expected. Please change the shape of y to (n_samples, ), for example using ravel().\n",
      "  y = column_or_1d(y, warn=True)\n",
      "/opt/anaconda3/lib/python3.7/site-packages/sklearn/neural_network/_multilayer_perceptron.py:934: DataConversionWarning: A column-vector y was passed when a 1d array was expected. Please change the shape of y to (n_samples, ), for example using ravel().\n",
      "  y = column_or_1d(y, warn=True)\n",
      "/opt/anaconda3/lib/python3.7/site-packages/sklearn/neural_network/_multilayer_perceptron.py:934: DataConversionWarning: A column-vector y was passed when a 1d array was expected. Please change the shape of y to (n_samples, ), for example using ravel().\n",
      "  y = column_or_1d(y, warn=True)\n",
      "/opt/anaconda3/lib/python3.7/site-packages/sklearn/neural_network/_multilayer_perceptron.py:934: DataConversionWarning: A column-vector y was passed when a 1d array was expected. Please change the shape of y to (n_samples, ), for example using ravel().\n",
      "  y = column_or_1d(y, warn=True)\n",
      "/opt/anaconda3/lib/python3.7/site-packages/sklearn/neural_network/_multilayer_perceptron.py:934: DataConversionWarning: A column-vector y was passed when a 1d array was expected. Please change the shape of y to (n_samples, ), for example using ravel().\n",
      "  y = column_or_1d(y, warn=True)\n",
      "/opt/anaconda3/lib/python3.7/site-packages/sklearn/neural_network/_multilayer_perceptron.py:934: DataConversionWarning: A column-vector y was passed when a 1d array was expected. Please change the shape of y to (n_samples, ), for example using ravel().\n",
      "  y = column_or_1d(y, warn=True)\n",
      "/opt/anaconda3/lib/python3.7/site-packages/sklearn/neural_network/_multilayer_perceptron.py:934: DataConversionWarning: A column-vector y was passed when a 1d array was expected. Please change the shape of y to (n_samples, ), for example using ravel().\n",
      "  y = column_or_1d(y, warn=True)\n",
      "/opt/anaconda3/lib/python3.7/site-packages/sklearn/neural_network/_multilayer_perceptron.py:934: DataConversionWarning: A column-vector y was passed when a 1d array was expected. Please change the shape of y to (n_samples, ), for example using ravel().\n",
      "  y = column_or_1d(y, warn=True)\n",
      "/opt/anaconda3/lib/python3.7/site-packages/sklearn/neural_network/_multilayer_perceptron.py:934: DataConversionWarning: A column-vector y was passed when a 1d array was expected. Please change the shape of y to (n_samples, ), for example using ravel().\n",
      "  y = column_or_1d(y, warn=True)\n",
      "/opt/anaconda3/lib/python3.7/site-packages/sklearn/neural_network/_multilayer_perceptron.py:934: DataConversionWarning: A column-vector y was passed when a 1d array was expected. Please change the shape of y to (n_samples, ), for example using ravel().\n",
      "  y = column_or_1d(y, warn=True)\n",
      "/opt/anaconda3/lib/python3.7/site-packages/sklearn/neural_network/_multilayer_perceptron.py:934: DataConversionWarning: A column-vector y was passed when a 1d array was expected. Please change the shape of y to (n_samples, ), for example using ravel().\n",
      "  y = column_or_1d(y, warn=True)\n",
      "/opt/anaconda3/lib/python3.7/site-packages/sklearn/neural_network/_multilayer_perceptron.py:934: DataConversionWarning: A column-vector y was passed when a 1d array was expected. Please change the shape of y to (n_samples, ), for example using ravel().\n",
      "  y = column_or_1d(y, warn=True)\n",
      "/opt/anaconda3/lib/python3.7/site-packages/sklearn/neural_network/_multilayer_perceptron.py:934: DataConversionWarning: A column-vector y was passed when a 1d array was expected. Please change the shape of y to (n_samples, ), for example using ravel().\n",
      "  y = column_or_1d(y, warn=True)\n"
     ]
    },
    {
     "name": "stderr",
     "output_type": "stream",
     "text": [
      "/opt/anaconda3/lib/python3.7/site-packages/sklearn/neural_network/_multilayer_perceptron.py:934: DataConversionWarning: A column-vector y was passed when a 1d array was expected. Please change the shape of y to (n_samples, ), for example using ravel().\n",
      "  y = column_or_1d(y, warn=True)\n",
      "/opt/anaconda3/lib/python3.7/site-packages/sklearn/neural_network/_multilayer_perceptron.py:934: DataConversionWarning: A column-vector y was passed when a 1d array was expected. Please change the shape of y to (n_samples, ), for example using ravel().\n",
      "  y = column_or_1d(y, warn=True)\n",
      "/opt/anaconda3/lib/python3.7/site-packages/sklearn/neural_network/_multilayer_perceptron.py:934: DataConversionWarning: A column-vector y was passed when a 1d array was expected. Please change the shape of y to (n_samples, ), for example using ravel().\n",
      "  y = column_or_1d(y, warn=True)\n",
      "/opt/anaconda3/lib/python3.7/site-packages/sklearn/neural_network/_multilayer_perceptron.py:934: DataConversionWarning: A column-vector y was passed when a 1d array was expected. Please change the shape of y to (n_samples, ), for example using ravel().\n",
      "  y = column_or_1d(y, warn=True)\n",
      "/opt/anaconda3/lib/python3.7/site-packages/sklearn/neural_network/_multilayer_perceptron.py:934: DataConversionWarning: A column-vector y was passed when a 1d array was expected. Please change the shape of y to (n_samples, ), for example using ravel().\n",
      "  y = column_or_1d(y, warn=True)\n",
      "/opt/anaconda3/lib/python3.7/site-packages/sklearn/neural_network/_multilayer_perceptron.py:934: DataConversionWarning: A column-vector y was passed when a 1d array was expected. Please change the shape of y to (n_samples, ), for example using ravel().\n",
      "  y = column_or_1d(y, warn=True)\n",
      "/opt/anaconda3/lib/python3.7/site-packages/sklearn/neural_network/_multilayer_perceptron.py:934: DataConversionWarning: A column-vector y was passed when a 1d array was expected. Please change the shape of y to (n_samples, ), for example using ravel().\n",
      "  y = column_or_1d(y, warn=True)\n",
      "/opt/anaconda3/lib/python3.7/site-packages/sklearn/neural_network/_multilayer_perceptron.py:934: DataConversionWarning: A column-vector y was passed when a 1d array was expected. Please change the shape of y to (n_samples, ), for example using ravel().\n",
      "  y = column_or_1d(y, warn=True)\n",
      "/opt/anaconda3/lib/python3.7/site-packages/sklearn/neural_network/_multilayer_perceptron.py:934: DataConversionWarning: A column-vector y was passed when a 1d array was expected. Please change the shape of y to (n_samples, ), for example using ravel().\n",
      "  y = column_or_1d(y, warn=True)\n",
      "/opt/anaconda3/lib/python3.7/site-packages/sklearn/neural_network/_multilayer_perceptron.py:934: DataConversionWarning: A column-vector y was passed when a 1d array was expected. Please change the shape of y to (n_samples, ), for example using ravel().\n",
      "  y = column_or_1d(y, warn=True)\n",
      "/opt/anaconda3/lib/python3.7/site-packages/sklearn/neural_network/_multilayer_perceptron.py:934: DataConversionWarning: A column-vector y was passed when a 1d array was expected. Please change the shape of y to (n_samples, ), for example using ravel().\n",
      "  y = column_or_1d(y, warn=True)\n",
      "/opt/anaconda3/lib/python3.7/site-packages/sklearn/neural_network/_multilayer_perceptron.py:934: DataConversionWarning: A column-vector y was passed when a 1d array was expected. Please change the shape of y to (n_samples, ), for example using ravel().\n",
      "  y = column_or_1d(y, warn=True)\n",
      "/opt/anaconda3/lib/python3.7/site-packages/sklearn/neural_network/_multilayer_perceptron.py:934: DataConversionWarning: A column-vector y was passed when a 1d array was expected. Please change the shape of y to (n_samples, ), for example using ravel().\n",
      "  y = column_or_1d(y, warn=True)\n",
      "/opt/anaconda3/lib/python3.7/site-packages/sklearn/neural_network/_multilayer_perceptron.py:934: DataConversionWarning: A column-vector y was passed when a 1d array was expected. Please change the shape of y to (n_samples, ), for example using ravel().\n",
      "  y = column_or_1d(y, warn=True)\n",
      "/opt/anaconda3/lib/python3.7/site-packages/sklearn/neural_network/_multilayer_perceptron.py:934: DataConversionWarning: A column-vector y was passed when a 1d array was expected. Please change the shape of y to (n_samples, ), for example using ravel().\n",
      "  y = column_or_1d(y, warn=True)\n",
      "/opt/anaconda3/lib/python3.7/site-packages/sklearn/neural_network/_multilayer_perceptron.py:934: DataConversionWarning: A column-vector y was passed when a 1d array was expected. Please change the shape of y to (n_samples, ), for example using ravel().\n",
      "  y = column_or_1d(y, warn=True)\n",
      "/opt/anaconda3/lib/python3.7/site-packages/sklearn/neural_network/_multilayer_perceptron.py:934: DataConversionWarning: A column-vector y was passed when a 1d array was expected. Please change the shape of y to (n_samples, ), for example using ravel().\n",
      "  y = column_or_1d(y, warn=True)\n",
      "/opt/anaconda3/lib/python3.7/site-packages/sklearn/neural_network/_multilayer_perceptron.py:934: DataConversionWarning: A column-vector y was passed when a 1d array was expected. Please change the shape of y to (n_samples, ), for example using ravel().\n",
      "  y = column_or_1d(y, warn=True)\n",
      "/opt/anaconda3/lib/python3.7/site-packages/sklearn/neural_network/_multilayer_perceptron.py:934: DataConversionWarning: A column-vector y was passed when a 1d array was expected. Please change the shape of y to (n_samples, ), for example using ravel().\n",
      "  y = column_or_1d(y, warn=True)\n",
      "/opt/anaconda3/lib/python3.7/site-packages/sklearn/neural_network/_multilayer_perceptron.py:934: DataConversionWarning: A column-vector y was passed when a 1d array was expected. Please change the shape of y to (n_samples, ), for example using ravel().\n",
      "  y = column_or_1d(y, warn=True)\n",
      "/opt/anaconda3/lib/python3.7/site-packages/sklearn/neural_network/_multilayer_perceptron.py:934: DataConversionWarning: A column-vector y was passed when a 1d array was expected. Please change the shape of y to (n_samples, ), for example using ravel().\n",
      "  y = column_or_1d(y, warn=True)\n",
      "/opt/anaconda3/lib/python3.7/site-packages/sklearn/neural_network/_multilayer_perceptron.py:934: DataConversionWarning: A column-vector y was passed when a 1d array was expected. Please change the shape of y to (n_samples, ), for example using ravel().\n",
      "  y = column_or_1d(y, warn=True)\n",
      "/opt/anaconda3/lib/python3.7/site-packages/sklearn/neural_network/_multilayer_perceptron.py:934: DataConversionWarning: A column-vector y was passed when a 1d array was expected. Please change the shape of y to (n_samples, ), for example using ravel().\n",
      "  y = column_or_1d(y, warn=True)\n",
      "/opt/anaconda3/lib/python3.7/site-packages/sklearn/neural_network/_multilayer_perceptron.py:934: DataConversionWarning: A column-vector y was passed when a 1d array was expected. Please change the shape of y to (n_samples, ), for example using ravel().\n",
      "  y = column_or_1d(y, warn=True)\n",
      "/opt/anaconda3/lib/python3.7/site-packages/sklearn/neural_network/_multilayer_perceptron.py:934: DataConversionWarning: A column-vector y was passed when a 1d array was expected. Please change the shape of y to (n_samples, ), for example using ravel().\n",
      "  y = column_or_1d(y, warn=True)\n",
      "/opt/anaconda3/lib/python3.7/site-packages/sklearn/neural_network/_multilayer_perceptron.py:934: DataConversionWarning: A column-vector y was passed when a 1d array was expected. Please change the shape of y to (n_samples, ), for example using ravel().\n",
      "  y = column_or_1d(y, warn=True)\n",
      "/opt/anaconda3/lib/python3.7/site-packages/sklearn/neural_network/_multilayer_perceptron.py:934: DataConversionWarning: A column-vector y was passed when a 1d array was expected. Please change the shape of y to (n_samples, ), for example using ravel().\n",
      "  y = column_or_1d(y, warn=True)\n",
      "/opt/anaconda3/lib/python3.7/site-packages/sklearn/neural_network/_multilayer_perceptron.py:934: DataConversionWarning: A column-vector y was passed when a 1d array was expected. Please change the shape of y to (n_samples, ), for example using ravel().\n",
      "  y = column_or_1d(y, warn=True)\n",
      "/opt/anaconda3/lib/python3.7/site-packages/sklearn/neural_network/_multilayer_perceptron.py:934: DataConversionWarning: A column-vector y was passed when a 1d array was expected. Please change the shape of y to (n_samples, ), for example using ravel().\n",
      "  y = column_or_1d(y, warn=True)\n",
      "/opt/anaconda3/lib/python3.7/site-packages/sklearn/neural_network/_multilayer_perceptron.py:934: DataConversionWarning: A column-vector y was passed when a 1d array was expected. Please change the shape of y to (n_samples, ), for example using ravel().\n",
      "  y = column_or_1d(y, warn=True)\n"
     ]
    },
    {
     "name": "stderr",
     "output_type": "stream",
     "text": [
      "/opt/anaconda3/lib/python3.7/site-packages/sklearn/neural_network/_multilayer_perceptron.py:934: DataConversionWarning: A column-vector y was passed when a 1d array was expected. Please change the shape of y to (n_samples, ), for example using ravel().\n",
      "  y = column_or_1d(y, warn=True)\n",
      "/opt/anaconda3/lib/python3.7/site-packages/sklearn/neural_network/_multilayer_perceptron.py:934: DataConversionWarning: A column-vector y was passed when a 1d array was expected. Please change the shape of y to (n_samples, ), for example using ravel().\n",
      "  y = column_or_1d(y, warn=True)\n",
      "/opt/anaconda3/lib/python3.7/site-packages/sklearn/neural_network/_multilayer_perceptron.py:934: DataConversionWarning: A column-vector y was passed when a 1d array was expected. Please change the shape of y to (n_samples, ), for example using ravel().\n",
      "  y = column_or_1d(y, warn=True)\n",
      "/opt/anaconda3/lib/python3.7/site-packages/sklearn/neural_network/_multilayer_perceptron.py:934: DataConversionWarning: A column-vector y was passed when a 1d array was expected. Please change the shape of y to (n_samples, ), for example using ravel().\n",
      "  y = column_or_1d(y, warn=True)\n",
      "/opt/anaconda3/lib/python3.7/site-packages/sklearn/neural_network/_multilayer_perceptron.py:934: DataConversionWarning: A column-vector y was passed when a 1d array was expected. Please change the shape of y to (n_samples, ), for example using ravel().\n",
      "  y = column_or_1d(y, warn=True)\n",
      "/opt/anaconda3/lib/python3.7/site-packages/sklearn/neural_network/_multilayer_perceptron.py:934: DataConversionWarning: A column-vector y was passed when a 1d array was expected. Please change the shape of y to (n_samples, ), for example using ravel().\n",
      "  y = column_or_1d(y, warn=True)\n",
      "/opt/anaconda3/lib/python3.7/site-packages/sklearn/neural_network/_multilayer_perceptron.py:934: DataConversionWarning: A column-vector y was passed when a 1d array was expected. Please change the shape of y to (n_samples, ), for example using ravel().\n",
      "  y = column_or_1d(y, warn=True)\n",
      "/opt/anaconda3/lib/python3.7/site-packages/sklearn/neural_network/_multilayer_perceptron.py:934: DataConversionWarning: A column-vector y was passed when a 1d array was expected. Please change the shape of y to (n_samples, ), for example using ravel().\n",
      "  y = column_or_1d(y, warn=True)\n",
      "/opt/anaconda3/lib/python3.7/site-packages/sklearn/neural_network/_multilayer_perceptron.py:934: DataConversionWarning: A column-vector y was passed when a 1d array was expected. Please change the shape of y to (n_samples, ), for example using ravel().\n",
      "  y = column_or_1d(y, warn=True)\n",
      "/opt/anaconda3/lib/python3.7/site-packages/sklearn/neural_network/_multilayer_perceptron.py:934: DataConversionWarning: A column-vector y was passed when a 1d array was expected. Please change the shape of y to (n_samples, ), for example using ravel().\n",
      "  y = column_or_1d(y, warn=True)\n",
      "/opt/anaconda3/lib/python3.7/site-packages/sklearn/neural_network/_multilayer_perceptron.py:934: DataConversionWarning: A column-vector y was passed when a 1d array was expected. Please change the shape of y to (n_samples, ), for example using ravel().\n",
      "  y = column_or_1d(y, warn=True)\n",
      "/opt/anaconda3/lib/python3.7/site-packages/sklearn/neural_network/_multilayer_perceptron.py:934: DataConversionWarning: A column-vector y was passed when a 1d array was expected. Please change the shape of y to (n_samples, ), for example using ravel().\n",
      "  y = column_or_1d(y, warn=True)\n",
      "/opt/anaconda3/lib/python3.7/site-packages/sklearn/neural_network/_multilayer_perceptron.py:934: DataConversionWarning: A column-vector y was passed when a 1d array was expected. Please change the shape of y to (n_samples, ), for example using ravel().\n",
      "  y = column_or_1d(y, warn=True)\n",
      "/opt/anaconda3/lib/python3.7/site-packages/sklearn/neural_network/_multilayer_perceptron.py:934: DataConversionWarning: A column-vector y was passed when a 1d array was expected. Please change the shape of y to (n_samples, ), for example using ravel().\n",
      "  y = column_or_1d(y, warn=True)\n",
      "/opt/anaconda3/lib/python3.7/site-packages/sklearn/neural_network/_multilayer_perceptron.py:934: DataConversionWarning: A column-vector y was passed when a 1d array was expected. Please change the shape of y to (n_samples, ), for example using ravel().\n",
      "  y = column_or_1d(y, warn=True)\n",
      "/opt/anaconda3/lib/python3.7/site-packages/sklearn/neural_network/_multilayer_perceptron.py:934: DataConversionWarning: A column-vector y was passed when a 1d array was expected. Please change the shape of y to (n_samples, ), for example using ravel().\n",
      "  y = column_or_1d(y, warn=True)\n",
      "/opt/anaconda3/lib/python3.7/site-packages/sklearn/neural_network/_multilayer_perceptron.py:934: DataConversionWarning: A column-vector y was passed when a 1d array was expected. Please change the shape of y to (n_samples, ), for example using ravel().\n",
      "  y = column_or_1d(y, warn=True)\n",
      "/opt/anaconda3/lib/python3.7/site-packages/sklearn/neural_network/_multilayer_perceptron.py:934: DataConversionWarning: A column-vector y was passed when a 1d array was expected. Please change the shape of y to (n_samples, ), for example using ravel().\n",
      "  y = column_or_1d(y, warn=True)\n",
      "/opt/anaconda3/lib/python3.7/site-packages/sklearn/neural_network/_multilayer_perceptron.py:934: DataConversionWarning: A column-vector y was passed when a 1d array was expected. Please change the shape of y to (n_samples, ), for example using ravel().\n",
      "  y = column_or_1d(y, warn=True)\n",
      "/opt/anaconda3/lib/python3.7/site-packages/sklearn/neural_network/_multilayer_perceptron.py:934: DataConversionWarning: A column-vector y was passed when a 1d array was expected. Please change the shape of y to (n_samples, ), for example using ravel().\n",
      "  y = column_or_1d(y, warn=True)\n",
      "/opt/anaconda3/lib/python3.7/site-packages/sklearn/neural_network/_multilayer_perceptron.py:934: DataConversionWarning: A column-vector y was passed when a 1d array was expected. Please change the shape of y to (n_samples, ), for example using ravel().\n",
      "  y = column_or_1d(y, warn=True)\n",
      "/opt/anaconda3/lib/python3.7/site-packages/sklearn/neural_network/_multilayer_perceptron.py:934: DataConversionWarning: A column-vector y was passed when a 1d array was expected. Please change the shape of y to (n_samples, ), for example using ravel().\n",
      "  y = column_or_1d(y, warn=True)\n",
      "/opt/anaconda3/lib/python3.7/site-packages/sklearn/neural_network/_multilayer_perceptron.py:934: DataConversionWarning: A column-vector y was passed when a 1d array was expected. Please change the shape of y to (n_samples, ), for example using ravel().\n",
      "  y = column_or_1d(y, warn=True)\n",
      "/opt/anaconda3/lib/python3.7/site-packages/sklearn/neural_network/_multilayer_perceptron.py:934: DataConversionWarning: A column-vector y was passed when a 1d array was expected. Please change the shape of y to (n_samples, ), for example using ravel().\n",
      "  y = column_or_1d(y, warn=True)\n",
      "/opt/anaconda3/lib/python3.7/site-packages/sklearn/neural_network/_multilayer_perceptron.py:934: DataConversionWarning: A column-vector y was passed when a 1d array was expected. Please change the shape of y to (n_samples, ), for example using ravel().\n",
      "  y = column_or_1d(y, warn=True)\n",
      "/opt/anaconda3/lib/python3.7/site-packages/sklearn/neural_network/_multilayer_perceptron.py:934: DataConversionWarning: A column-vector y was passed when a 1d array was expected. Please change the shape of y to (n_samples, ), for example using ravel().\n",
      "  y = column_or_1d(y, warn=True)\n",
      "/opt/anaconda3/lib/python3.7/site-packages/sklearn/neural_network/_multilayer_perceptron.py:934: DataConversionWarning: A column-vector y was passed when a 1d array was expected. Please change the shape of y to (n_samples, ), for example using ravel().\n",
      "  y = column_or_1d(y, warn=True)\n",
      "/opt/anaconda3/lib/python3.7/site-packages/sklearn/neural_network/_multilayer_perceptron.py:934: DataConversionWarning: A column-vector y was passed when a 1d array was expected. Please change the shape of y to (n_samples, ), for example using ravel().\n",
      "  y = column_or_1d(y, warn=True)\n",
      "/opt/anaconda3/lib/python3.7/site-packages/sklearn/neural_network/_multilayer_perceptron.py:934: DataConversionWarning: A column-vector y was passed when a 1d array was expected. Please change the shape of y to (n_samples, ), for example using ravel().\n",
      "  y = column_or_1d(y, warn=True)\n"
     ]
    },
    {
     "name": "stderr",
     "output_type": "stream",
     "text": [
      "/opt/anaconda3/lib/python3.7/site-packages/sklearn/neural_network/_multilayer_perceptron.py:934: DataConversionWarning: A column-vector y was passed when a 1d array was expected. Please change the shape of y to (n_samples, ), for example using ravel().\n",
      "  y = column_or_1d(y, warn=True)\n"
     ]
    }
   ],
   "source": [
    "#Determine number of hidden layers and number of hidden nodes in each layer, based on Accuracy Score, using LoanData1\n",
    "df = pd.DataFrame(columns=[\"firstLayer_N\",\"2ndLayer_0N\",\"2ndLayer_1N\",\"2ndLayer_2N\",\"2ndLayer_3N\",\"2ndLayer_4N\"\n",
    "                           ,\"2ndLayer_5N\"])\n",
    "\n",
    "for i in range(7):           #i is the number of nodes in second hidden layer\n",
    "    for j in range(1,21):    #j is the number of nodes in first hidden layer\n",
    "        if i == 0:\n",
    "            df[df.columns[i]] = range(1,21)\n",
    "        elif i == 1:\n",
    "            MLP1_class = MLPClassifier(hidden_layer_sizes=(j), solver='lbfgs', alpha=1e-05, random_state=8810\n",
    "                                       , max_iter=500).fit(X_train1, y_train1)\n",
    "            y_pred_MLP1 = MLP1_class.predict(X_test1)\n",
    "            Accuracy_MLP1 = metrics.accuracy_score(y_test1, y_pred_MLP1)\n",
    "            df[df.columns[i]][j-1] = Accuracy_MLP1\n",
    "        else:\n",
    "            MLP1_class = MLPClassifier(hidden_layer_sizes=(j,i), solver='lbfgs', alpha=1e-05, random_state=8810\n",
    "                                       , max_iter=500).fit(X_train1, y_train1)\n",
    "            y_pred_MLP1 = MLP1_class.predict(X_test1)\n",
    "            Accuracy_MLP1 = metrics.accuracy_score(y_test1, y_pred_MLP1)\n",
    "            df[df.columns[i]][j-1] = Accuracy_MLP1"
   ]
  },
  {
   "cell_type": "code",
   "execution_count": 605,
   "metadata": {},
   "outputs": [
    {
     "data": {
      "text/html": [
       "<div>\n",
       "<style scoped>\n",
       "    .dataframe tbody tr th:only-of-type {\n",
       "        vertical-align: middle;\n",
       "    }\n",
       "\n",
       "    .dataframe tbody tr th {\n",
       "        vertical-align: top;\n",
       "    }\n",
       "\n",
       "    .dataframe thead th {\n",
       "        text-align: right;\n",
       "    }\n",
       "</style>\n",
       "<table border=\"1\" class=\"dataframe\">\n",
       "  <thead>\n",
       "    <tr style=\"text-align: right;\">\n",
       "      <th></th>\n",
       "      <th>firstLayer_N</th>\n",
       "      <th>2ndLayer_0N</th>\n",
       "      <th>2ndLayer_1N</th>\n",
       "      <th>2ndLayer_2N</th>\n",
       "      <th>2ndLayer_3N</th>\n",
       "      <th>2ndLayer_4N</th>\n",
       "      <th>2ndLayer_5N</th>\n",
       "    </tr>\n",
       "  </thead>\n",
       "  <tbody>\n",
       "    <tr>\n",
       "      <th>0</th>\n",
       "      <td>1</td>\n",
       "      <td>0.93874</td>\n",
       "      <td>0.93874</td>\n",
       "      <td>0.93874</td>\n",
       "      <td>0.93874</td>\n",
       "      <td>0.93874</td>\n",
       "      <td>0.93874</td>\n",
       "    </tr>\n",
       "    <tr>\n",
       "      <th>1</th>\n",
       "      <td>2</td>\n",
       "      <td>0.0612596</td>\n",
       "      <td>0.0625283</td>\n",
       "      <td>0.93874</td>\n",
       "      <td>0.93874</td>\n",
       "      <td>0.937472</td>\n",
       "      <td>0.93874</td>\n",
       "    </tr>\n",
       "    <tr>\n",
       "      <th>2</th>\n",
       "      <td>3</td>\n",
       "      <td>0.937608</td>\n",
       "      <td>0.93874</td>\n",
       "      <td>0.93874</td>\n",
       "      <td>0.937336</td>\n",
       "      <td>0.0614862</td>\n",
       "      <td>0.937925</td>\n",
       "    </tr>\n",
       "    <tr>\n",
       "      <th>3</th>\n",
       "      <td>4</td>\n",
       "      <td>0.93874</td>\n",
       "      <td>0.93874</td>\n",
       "      <td>0.93874</td>\n",
       "      <td>0.0632533</td>\n",
       "      <td>0.0612596</td>\n",
       "      <td>0.938469</td>\n",
       "    </tr>\n",
       "    <tr>\n",
       "      <th>4</th>\n",
       "      <td>5</td>\n",
       "      <td>0.938514</td>\n",
       "      <td>0.937653</td>\n",
       "      <td>0.0612596</td>\n",
       "      <td>0.93874</td>\n",
       "      <td>0.93874</td>\n",
       "      <td>0.0612596</td>\n",
       "    </tr>\n",
       "    <tr>\n",
       "      <th>5</th>\n",
       "      <td>6</td>\n",
       "      <td>0.937653</td>\n",
       "      <td>0.93874</td>\n",
       "      <td>0.93874</td>\n",
       "      <td>0.937426</td>\n",
       "      <td>0.880788</td>\n",
       "      <td>0.0623924</td>\n",
       "    </tr>\n",
       "    <tr>\n",
       "      <th>6</th>\n",
       "      <td>7</td>\n",
       "      <td>0.0613049</td>\n",
       "      <td>0.114318</td>\n",
       "      <td>0.937517</td>\n",
       "      <td>0.93874</td>\n",
       "      <td>0.938695</td>\n",
       "      <td>0.937608</td>\n",
       "    </tr>\n",
       "    <tr>\n",
       "      <th>7</th>\n",
       "      <td>8</td>\n",
       "      <td>0.0622565</td>\n",
       "      <td>0.0612596</td>\n",
       "      <td>0.938695</td>\n",
       "      <td>0.0623924</td>\n",
       "      <td>0.937653</td>\n",
       "      <td>0.936565</td>\n",
       "    </tr>\n",
       "    <tr>\n",
       "      <th>8</th>\n",
       "      <td>9</td>\n",
       "      <td>0.0639329</td>\n",
       "      <td>0.937608</td>\n",
       "      <td>0.93874</td>\n",
       "      <td>0.937381</td>\n",
       "      <td>0.93874</td>\n",
       "      <td>0.936022</td>\n",
       "    </tr>\n",
       "    <tr>\n",
       "      <th>9</th>\n",
       "      <td>10</td>\n",
       "      <td>0.938695</td>\n",
       "      <td>0.937608</td>\n",
       "      <td>0.93874</td>\n",
       "      <td>0.313638</td>\n",
       "      <td>0.0623924</td>\n",
       "      <td>0.937744</td>\n",
       "    </tr>\n",
       "    <tr>\n",
       "      <th>10</th>\n",
       "      <td>11</td>\n",
       "      <td>0.93874</td>\n",
       "      <td>0.937653</td>\n",
       "      <td>0.93874</td>\n",
       "      <td>0.0612596</td>\n",
       "      <td>0.937653</td>\n",
       "      <td>0.843453</td>\n",
       "    </tr>\n",
       "    <tr>\n",
       "      <th>11</th>\n",
       "      <td>12</td>\n",
       "      <td>0.93874</td>\n",
       "      <td>0.938061</td>\n",
       "      <td>0.0612596</td>\n",
       "      <td>0.934572</td>\n",
       "      <td>0.937608</td>\n",
       "      <td>0.939375</td>\n",
       "    </tr>\n",
       "    <tr>\n",
       "      <th>12</th>\n",
       "      <td>13</td>\n",
       "      <td>0.935976</td>\n",
       "      <td>0.0612596</td>\n",
       "      <td>0.0626189</td>\n",
       "      <td>0.0612596</td>\n",
       "      <td>0.939148</td>\n",
       "      <td>0.938831</td>\n",
       "    </tr>\n",
       "    <tr>\n",
       "      <th>13</th>\n",
       "      <td>14</td>\n",
       "      <td>0.0612143</td>\n",
       "      <td>0.937517</td>\n",
       "      <td>0.901087</td>\n",
       "      <td>0.0612596</td>\n",
       "      <td>0.93874</td>\n",
       "      <td>0.93874</td>\n",
       "    </tr>\n",
       "    <tr>\n",
       "      <th>14</th>\n",
       "      <td>15</td>\n",
       "      <td>0.802583</td>\n",
       "      <td>0.0612596</td>\n",
       "      <td>0.938106</td>\n",
       "      <td>0.794155</td>\n",
       "      <td>0.935433</td>\n",
       "      <td>0.127367</td>\n",
       "    </tr>\n",
       "    <tr>\n",
       "      <th>15</th>\n",
       "      <td>16</td>\n",
       "      <td>0.937562</td>\n",
       "      <td>0.0613049</td>\n",
       "      <td>0.93874</td>\n",
       "      <td>0.938695</td>\n",
       "      <td>0.93874</td>\n",
       "      <td>0.937744</td>\n",
       "    </tr>\n",
       "    <tr>\n",
       "      <th>16</th>\n",
       "      <td>17</td>\n",
       "      <td>0.937608</td>\n",
       "      <td>0.795333</td>\n",
       "      <td>0.761169</td>\n",
       "      <td>0.93498</td>\n",
       "      <td>0.0623924</td>\n",
       "      <td>0.930267</td>\n",
       "    </tr>\n",
       "    <tr>\n",
       "      <th>17</th>\n",
       "      <td>18</td>\n",
       "      <td>0.938015</td>\n",
       "      <td>0.937608</td>\n",
       "      <td>0.938695</td>\n",
       "      <td>0.93874</td>\n",
       "      <td>0.93874</td>\n",
       "      <td>0.935569</td>\n",
       "    </tr>\n",
       "    <tr>\n",
       "      <th>18</th>\n",
       "      <td>19</td>\n",
       "      <td>0.938061</td>\n",
       "      <td>0.93874</td>\n",
       "      <td>0.936565</td>\n",
       "      <td>0.0612596</td>\n",
       "      <td>0.0623471</td>\n",
       "      <td>0.93865</td>\n",
       "    </tr>\n",
       "    <tr>\n",
       "      <th>19</th>\n",
       "      <td>20</td>\n",
       "      <td>0.761667</td>\n",
       "      <td>0.93874</td>\n",
       "      <td>0.938876</td>\n",
       "      <td>0.0612596</td>\n",
       "      <td>0.936656</td>\n",
       "      <td>0.937109</td>\n",
       "    </tr>\n",
       "  </tbody>\n",
       "</table>\n",
       "</div>"
      ],
      "text/plain": [
       "    firstLayer_N 2ndLayer_0N 2ndLayer_1N 2ndLayer_2N 2ndLayer_3N 2ndLayer_4N  \\\n",
       "0              1     0.93874     0.93874     0.93874     0.93874     0.93874   \n",
       "1              2   0.0612596   0.0625283     0.93874     0.93874    0.937472   \n",
       "2              3    0.937608     0.93874     0.93874    0.937336   0.0614862   \n",
       "3              4     0.93874     0.93874     0.93874   0.0632533   0.0612596   \n",
       "4              5    0.938514    0.937653   0.0612596     0.93874     0.93874   \n",
       "5              6    0.937653     0.93874     0.93874    0.937426    0.880788   \n",
       "6              7   0.0613049    0.114318    0.937517     0.93874    0.938695   \n",
       "7              8   0.0622565   0.0612596    0.938695   0.0623924    0.937653   \n",
       "8              9   0.0639329    0.937608     0.93874    0.937381     0.93874   \n",
       "9             10    0.938695    0.937608     0.93874    0.313638   0.0623924   \n",
       "10            11     0.93874    0.937653     0.93874   0.0612596    0.937653   \n",
       "11            12     0.93874    0.938061   0.0612596    0.934572    0.937608   \n",
       "12            13    0.935976   0.0612596   0.0626189   0.0612596    0.939148   \n",
       "13            14   0.0612143    0.937517    0.901087   0.0612596     0.93874   \n",
       "14            15    0.802583   0.0612596    0.938106    0.794155    0.935433   \n",
       "15            16    0.937562   0.0613049     0.93874    0.938695     0.93874   \n",
       "16            17    0.937608    0.795333    0.761169     0.93498   0.0623924   \n",
       "17            18    0.938015    0.937608    0.938695     0.93874     0.93874   \n",
       "18            19    0.938061     0.93874    0.936565   0.0612596   0.0623471   \n",
       "19            20    0.761667     0.93874    0.938876   0.0612596    0.936656   \n",
       "\n",
       "   2ndLayer_5N  \n",
       "0      0.93874  \n",
       "1      0.93874  \n",
       "2     0.937925  \n",
       "3     0.938469  \n",
       "4    0.0612596  \n",
       "5    0.0623924  \n",
       "6     0.937608  \n",
       "7     0.936565  \n",
       "8     0.936022  \n",
       "9     0.937744  \n",
       "10    0.843453  \n",
       "11    0.939375  \n",
       "12    0.938831  \n",
       "13     0.93874  \n",
       "14    0.127367  \n",
       "15    0.937744  \n",
       "16    0.930267  \n",
       "17    0.935569  \n",
       "18     0.93865  \n",
       "19    0.937109  "
      ]
     },
     "execution_count": 605,
     "metadata": {},
     "output_type": "execute_result"
    }
   ],
   "source": [
    "#Based on the Accuracy table, the local maximum score, 0.93874, shows up in a few pairs, one of which is (5,2)\n",
    "df"
   ]
  },
  {
   "cell_type": "code",
   "execution_count": 41,
   "metadata": {},
   "outputs": [
    {
     "name": "stderr",
     "output_type": "stream",
     "text": [
      "/opt/anaconda3/lib/python3.7/site-packages/sklearn/neural_network/_multilayer_perceptron.py:934: DataConversionWarning: A column-vector y was passed when a 1d array was expected. Please change the shape of y to (n_samples, ), for example using ravel().\n",
      "  y = column_or_1d(y, warn=True)\n",
      "/opt/anaconda3/lib/python3.7/site-packages/sklearn/neural_network/_multilayer_perceptron.py:934: DataConversionWarning: A column-vector y was passed when a 1d array was expected. Please change the shape of y to (n_samples, ), for example using ravel().\n",
      "  y = column_or_1d(y, warn=True)\n",
      "/opt/anaconda3/lib/python3.7/site-packages/sklearn/neural_network/_multilayer_perceptron.py:934: DataConversionWarning: A column-vector y was passed when a 1d array was expected. Please change the shape of y to (n_samples, ), for example using ravel().\n",
      "  y = column_or_1d(y, warn=True)\n"
     ]
    }
   ],
   "source": [
    "#Train 3 datasets with the MLP Classifier\n",
    "\n",
    "#For LoanData1 dataset\n",
    "MLP1_class = MLPClassifier(hidden_layer_sizes=(5,2), solver='lbfgs', alpha=1e-05, random_state=8810, max_iter=500)\n",
    "MLP1_class = MLP1_class.fit(X_train1, y_train1)\n",
    "\n",
    "#For LoanData2 dataset\n",
    "MLP2_class = MLPClassifier(hidden_layer_sizes=(5,2), solver='lbfgs', alpha=1e-05, random_state=8810, max_iter=500)\n",
    "MLP2_class = MLP2_class.fit(X_train2, y_train2)\n",
    "\n",
    "#For LoanData3 dataset\n",
    "MLP3_class = MLPClassifier(hidden_layer_sizes=(5,2), solver='lbfgs', alpha=1e-05, random_state=8810, max_iter=500)\n",
    "MLP3_class = MLP3_class.fit(X_train3, y_train3)"
   ]
  },
  {
   "cell_type": "markdown",
   "metadata": {},
   "source": [
    "### Step 5: Make predictions using testing datasets"
   ]
  },
  {
   "cell_type": "code",
   "execution_count": 42,
   "metadata": {},
   "outputs": [],
   "source": [
    "#Making predictions on 3 datasets using Random Forest and MLP Classifiers\n",
    "y_pred_RF1 = RF1_class.predict(X_test1)\n",
    "y_pred_MLP1 = MLP1_class.predict(X_test1)\n",
    "\n",
    "y_pred_RF2 = RF2_class.predict(X_test2)\n",
    "y_pred_MLP2 = MLP2_class.predict(X_test2)\n",
    "\n",
    "y_pred_RF3 = RF3_class.predict(X_test3)\n",
    "y_pred_MLP3 = MLP3_class.predict(X_test3)"
   ]
  },
  {
   "cell_type": "markdown",
   "metadata": {},
   "source": [
    "### Step 6: Evaluate Random Forest and MLPClassification models"
   ]
  },
  {
   "cell_type": "code",
   "execution_count": 65,
   "metadata": {},
   "outputs": [],
   "source": [
    "#Confusion matrix\n",
    "cm_RF1 = confusion_matrix(y_test1, y_pred_RF1)\n",
    "cm_MLP1 = confusion_matrix(y_test1, y_pred_MLP1)\n",
    "\n",
    "cm_RF2 = confusion_matrix(y_test2, y_pred_RF2)\n",
    "cm_MLP2 = confusion_matrix(y_test2, y_pred_MLP2)\n",
    "\n",
    "cm_RF3 = confusion_matrix(y_test3, y_pred_RF3)\n",
    "cm_MLP3 = confusion_matrix(y_test3, y_pred_MLP3)"
   ]
  },
  {
   "cell_type": "code",
   "execution_count": 81,
   "metadata": {},
   "outputs": [
    {
     "name": "stdout",
     "output_type": "stream",
     "text": [
      "Confusion Matrix of Random Forest Classifier on sample 1:\n",
      "                 Predicted Class 0  Predicted Class 1\n",
      "Actual Class 0              20589                129\n",
      "Actual Class 1               1176                176\n",
      "\n",
      "Confusion Matrix of Random Forest Classifier on sample 2:\n",
      "                 Predicted Class 0  Predicted Class 1\n",
      "Actual Class 0              27440                600\n",
      "Actual Class 1               1544                416\n",
      "\n",
      "Confusion Matrix of Random Forest Classifier on sample 3:\n",
      "                 Predicted Class 0  Predicted Class 1\n",
      "Actual Class 0              26593               1321\n",
      "Actual Class 1               3126               2565\n",
      "\n",
      "Confusion Matrix of MLP Classifier on sample 1:\n",
      "                 Predicted Class 0  Predicted Class 1\n",
      "Actual Class 0              20692                 26\n",
      "Actual Class 1               1350                  2\n",
      "\n",
      "Confusion Matrix of MLP Classifier on sample 2:\n",
      "                 Predicted Class 0  Predicted Class 1\n",
      "Actual Class 0                  0              28040\n",
      "Actual Class 1                  0               1960\n",
      "\n",
      "Confusion Matrix of MLP Classifier on sample 3:\n",
      "                 Predicted Class 0  Predicted Class 1\n",
      "Actual Class 0                  0              27914\n",
      "Actual Class 1                  0               5691\n"
     ]
    }
   ],
   "source": [
    "#Convert Confusion Matrix into dataframe for better readability\n",
    "cm_RF1_df = pd.DataFrame(cm_RF1, columns=[\"Predicted Class \" + str(class_name) for class_name in [0,1]],\n",
    "                        index = [\"Actual Class \" + str(class_name) for class_name in [0,1]])\n",
    "cm_RF2_df = pd.DataFrame(cm_RF2, columns=[\"Predicted Class \" + str(class_name) for class_name in [0,1]],\n",
    "                        index = [\"Actual Class \" + str(class_name) for class_name in [0,1]])\n",
    "cm_RF3_df = pd.DataFrame(cm_RF3, columns=[\"Predicted Class \" + str(class_name) for class_name in [0,1]],\n",
    "                        index = [\"Actual Class \" + str(class_name) for class_name in [0,1]])\n",
    "cm_MLP1_df = pd.DataFrame(cm_MLP1, columns=[\"Predicted Class \" + str(class_name) for class_name in [0,1]],\n",
    "                        index = [\"Actual Class \" + str(class_name) for class_name in [0,1]])\n",
    "cm_MLP2_df = pd.DataFrame(cm_MLP2, columns=[\"Predicted Class \" + str(class_name) for class_name in [0,1]],\n",
    "                        index = [\"Actual Class \" + str(class_name) for class_name in [0,1]])\n",
    "cm_MLP3_df = pd.DataFrame(cm_MLP3, columns=[\"Predicted Class \" + str(class_name) for class_name in [0,1]],\n",
    "                        index = [\"Actual Class \" + str(class_name) for class_name in [0,1]])\n",
    "\n",
    "print(\"Confusion Matrix of Random Forest Classifier on sample 1:\\n\", cm_RF1_df)\n",
    "print(\"\\nConfusion Matrix of Random Forest Classifier on sample 2:\\n\", cm_RF2_df)\n",
    "print(\"\\nConfusion Matrix of Random Forest Classifier on sample 3:\\n\", cm_RF3_df)\n",
    "print(\"\\nConfusion Matrix of MLP Classifier on sample 1:\\n\", cm_MLP1_df)\n",
    "print(\"\\nConfusion Matrix of MLP Classifier on sample 2:\\n\", cm_MLP2_df)\n",
    "print(\"\\nConfusion Matrix of MLP Classifier on sample 3:\\n\", cm_MLP3_df)"
   ]
  },
  {
   "cell_type": "code",
   "execution_count": 87,
   "metadata": {},
   "outputs": [
    {
     "name": "stdout",
     "output_type": "stream",
     "text": [
      "Specificity score of RF1 is  0.1301775147928994\n",
      "Specificity score of RF2 is  0.21224489795918366\n",
      "Specificity score of RF3 is  0.4507116499736426\n",
      "Specificity score of MLP1 is  0.0014792899408284023\n",
      "Specificity score of MLP2 is  1.0\n",
      "Specificity score of MLP3 is  1.0\n"
     ]
    }
   ],
   "source": [
    "#Calculate Specificity measure from Confusion matrix\n",
    "Specificity_RF1 = cm_RF1[1,1]/(cm_RF1[1,0] + cm_RF1[1,1])\n",
    "Specificity_RF2 = cm_RF2[1,1]/(cm_RF2[1,0] + cm_RF2[1,1])\n",
    "Specificity_RF3 = cm_RF3[1,1]/(cm_RF3[1,0] + cm_RF3[1,1])\n",
    "Specificity_MLP1 = cm_MLP1[1,1]/(cm_MLP1[1,0] + cm_MLP1[1,1])\n",
    "Specificity_MLP2 = cm_MLP2[1,1]/(cm_MLP2[1,0] + cm_MLP2[1,1])\n",
    "Specificity_MLP3 = cm_MLP3[1,1]/(cm_MLP3[1,0] + cm_MLP3[1,1])\n",
    "\n",
    "print(\"Specificity score of RF1 is \", Specificity_RF1)\n",
    "print(\"Specificity score of RF2 is \", Specificity_RF2)\n",
    "print(\"Specificity score of RF3 is \", Specificity_RF3)\n",
    "print(\"Specificity score of MLP1 is \", Specificity_MLP1)\n",
    "print(\"Specificity score of MLP2 is \", Specificity_MLP2)\n",
    "print(\"Specificity score of MLP3 is \", Specificity_MLP3)"
   ]
  },
  {
   "cell_type": "code",
   "execution_count": 45,
   "metadata": {},
   "outputs": [],
   "source": [
    "#Accuracy score\n",
    "Accuracy_RF1 = metrics.accuracy_score(y_test1, y_pred_RF1)\n",
    "Accuracy_MLP1 = metrics.accuracy_score(y_test1, y_pred_MLP1)\n",
    "\n",
    "\n",
    "Accuracy_RF2 = metrics.accuracy_score(y_test2, y_pred_RF2)\n",
    "Accuracy_MLP2 = metrics.accuracy_score(y_test2, y_pred_MLP2)\n",
    "\n",
    "Accuracy_RF3 = metrics.accuracy_score(y_test3, y_pred_RF3)\n",
    "Accuracy_MLP3 = metrics.accuracy_score(y_test3, y_pred_MLP3)"
   ]
  },
  {
   "cell_type": "code",
   "execution_count": 62,
   "metadata": {},
   "outputs": [
    {
     "name": "stdout",
     "output_type": "stream",
     "text": [
      "Classification Report of Random Forest Classifier on sample 1:\n",
      "                       0            1  accuracy     macro avg  weighted avg\n",
      "precision      0.945968     0.577049   0.94087      0.761509      0.923368\n",
      "recall         0.993774     0.130178   0.94087      0.561976      0.940870\n",
      "f1-score       0.969282     0.212432   0.94087      0.590857      0.922917\n",
      "support    20718.000000  1352.000000   0.94087  22070.000000  22070.000000\n",
      "\n",
      "Classification Report of Random Forest Classifier on sample 2:\n",
      "                       0            1  accuracy     macro avg  weighted avg\n",
      "precision      0.946729     0.409449  0.928533      0.678089      0.911627\n",
      "recall         0.978602     0.212245  0.928533      0.595423      0.928533\n",
      "f1-score       0.962402     0.279570  0.928533      0.620986      0.917790\n",
      "support    28040.000000  1960.000000  0.928533  30000.000000  30000.000000\n",
      "\n",
      "Classification Report of Random Forest Classifier on sample 3:\n",
      "                       0            1  accuracy     macro avg  weighted avg\n",
      "precision      0.894815     0.660062  0.867669      0.777438      0.855059\n",
      "recall         0.952676     0.450712  0.867669      0.701694      0.867669\n",
      "f1-score       0.922839     0.535658  0.867669      0.729249      0.857270\n",
      "support    27914.000000  5691.000000  0.867669  33605.000000  33605.000000\n",
      "\n",
      "Classification Report of MLP Classifier on sample 1:\n",
      "                       0            1  accuracy     macro avg  weighted avg\n",
      "precision      0.938753     0.071429  0.937653      0.505091      0.885621\n",
      "recall         0.998745     0.001479  0.937653      0.500112      0.937653\n",
      "f1-score       0.967820     0.002899  0.937653      0.485359      0.908710\n",
      "support    20718.000000  1352.000000  0.937653  22070.000000  22070.000000\n",
      "\n",
      "Classification Report of MLP Classifier on sample 2:\n",
      "                  0            1  accuracy     macro avg  weighted avg\n",
      "precision      0.0     0.065333  0.065333      0.032667      0.004268\n",
      "recall         0.0     1.000000  0.065333      0.500000      0.065333\n",
      "f1-score       0.0     0.122653  0.065333      0.061327      0.008013\n",
      "support    28040.0  1960.000000  0.065333  30000.000000  30000.000000\n",
      "\n",
      "Classification Report of MLP Classifier on sample 3:\n",
      "                  0            1  accuracy     macro avg  weighted avg\n",
      "precision      0.0     0.169350   0.16935      0.084675      0.028679\n",
      "recall         0.0     1.000000   0.16935      0.500000      0.169350\n",
      "f1-score       0.0     0.289648   0.16935      0.144824      0.049052\n",
      "support    27914.0  5691.000000   0.16935  33605.000000  33605.000000\n"
     ]
    },
    {
     "name": "stderr",
     "output_type": "stream",
     "text": [
      "/opt/anaconda3/lib/python3.7/site-packages/sklearn/metrics/_classification.py:1272: UndefinedMetricWarning: Precision and F-score are ill-defined and being set to 0.0 in labels with no predicted samples. Use `zero_division` parameter to control this behavior.\n",
      "  _warn_prf(average, modifier, msg_start, len(result))\n"
     ]
    }
   ],
   "source": [
    "#Classification report\n",
    "cr_RF1 = pd.DataFrame(metrics.classification_report(y_test1, y_pred_RF1, output_dict=True))\n",
    "cr_MLP1 = pd.DataFrame(metrics.classification_report(y_test1, y_pred_MLP1, output_dict=True))\n",
    "\n",
    "cr_RF2 = pd.DataFrame(metrics.classification_report(y_test2, y_pred_RF2, output_dict=True))\n",
    "cr_MLP2 = pd.DataFrame(metrics.classification_report(y_test2, y_pred_MLP2, output_dict=True))\n",
    "\n",
    "cr_RF3 = pd.DataFrame(metrics.classification_report(y_test3, y_pred_RF3, output_dict=True))\n",
    "cr_MLP3 = pd.DataFrame(metrics.classification_report(y_test3, y_pred_MLP3, output_dict=True))\n",
    "\n",
    "print(\"Classification Report of Random Forest Classifier on sample 1:\\n\", cr_RF1)\n",
    "print(\"\\nClassification Report of Random Forest Classifier on sample 2:\\n\", cr_RF2)\n",
    "print(\"\\nClassification Report of Random Forest Classifier on sample 3:\\n\", cr_RF3)\n",
    "print(\"\\nClassification Report of MLP Classifier on sample 1:\\n\", cr_MLP1)\n",
    "print(\"\\nClassification Report of MLP Classifier on sample 2:\\n\", cr_MLP2)\n",
    "print(\"\\nClassification Report of MLP Classifier on sample 3:\\n\", cr_MLP3)"
   ]
  },
  {
   "cell_type": "markdown",
   "metadata": {},
   "source": [
    "### Performance Measure Table"
   ]
  },
  {
   "cell_type": "code",
   "execution_count": 47,
   "metadata": {},
   "outputs": [],
   "source": [
    "#Extract Precision, Recall and f-1 score from classification report of each algorithm and data cleaning approach\n",
    "measure_RF1 = pd.DataFrame(cr_RF1.iloc[:-1,3])\n",
    "measure_RF2 = pd.DataFrame(cr_RF2.iloc[:-1,3])\n",
    "measure_RF3 = pd.DataFrame(cr_RF3.iloc[:-1,3])\n",
    "measure_MLP1 = pd.DataFrame(cr_MLP1.iloc[:-1,3])\n",
    "measure_MLP2 = pd.DataFrame(cr_MLP2.iloc[:-1,3])\n",
    "measure_MLP3 = pd.DataFrame(cr_MLP3.iloc[:-1,3])"
   ]
  },
  {
   "cell_type": "code",
   "execution_count": 48,
   "metadata": {},
   "outputs": [
    {
     "data": {
      "text/html": [
       "<div>\n",
       "<style scoped>\n",
       "    .dataframe tbody tr th:only-of-type {\n",
       "        vertical-align: middle;\n",
       "    }\n",
       "\n",
       "    .dataframe tbody tr th {\n",
       "        vertical-align: top;\n",
       "    }\n",
       "\n",
       "    .dataframe thead th {\n",
       "        text-align: right;\n",
       "    }\n",
       "</style>\n",
       "<table border=\"1\" class=\"dataframe\">\n",
       "  <thead>\n",
       "    <tr style=\"text-align: right;\">\n",
       "      <th></th>\n",
       "      <th>RF1</th>\n",
       "      <th>RF2</th>\n",
       "      <th>RF3</th>\n",
       "      <th>MLP1</th>\n",
       "      <th>MLP2</th>\n",
       "      <th>MLP3</th>\n",
       "    </tr>\n",
       "  </thead>\n",
       "  <tbody>\n",
       "    <tr>\n",
       "      <th>precision</th>\n",
       "      <td>0.761509</td>\n",
       "      <td>0.678089</td>\n",
       "      <td>0.777438</td>\n",
       "      <td>0.505091</td>\n",
       "      <td>0.032667</td>\n",
       "      <td>0.084675</td>\n",
       "    </tr>\n",
       "    <tr>\n",
       "      <th>recall</th>\n",
       "      <td>0.561976</td>\n",
       "      <td>0.595423</td>\n",
       "      <td>0.701694</td>\n",
       "      <td>0.500112</td>\n",
       "      <td>0.500000</td>\n",
       "      <td>0.500000</td>\n",
       "    </tr>\n",
       "    <tr>\n",
       "      <th>f1-score</th>\n",
       "      <td>0.590857</td>\n",
       "      <td>0.620986</td>\n",
       "      <td>0.729249</td>\n",
       "      <td>0.485359</td>\n",
       "      <td>0.061327</td>\n",
       "      <td>0.144824</td>\n",
       "    </tr>\n",
       "  </tbody>\n",
       "</table>\n",
       "</div>"
      ],
      "text/plain": [
       "                RF1       RF2       RF3      MLP1      MLP2      MLP3\n",
       "precision  0.761509  0.678089  0.777438  0.505091  0.032667  0.084675\n",
       "recall     0.561976  0.595423  0.701694  0.500112  0.500000  0.500000\n",
       "f1-score   0.590857  0.620986  0.729249  0.485359  0.061327  0.144824"
      ]
     },
     "execution_count": 48,
     "metadata": {},
     "output_type": "execute_result"
    }
   ],
   "source": [
    "#Combine them into a table\n",
    "measure_table = pd.concat([measure_RF1,measure_RF2,measure_RF3,measure_MLP1,measure_MLP2,measure_MLP3], axis=1)\n",
    "measure_table.columns=[\"RF1\",\"RF2\",\"RF3\",\"MLP1\",\"MLP2\",\"MLP3\"]\n",
    "measure_table"
   ]
  },
  {
   "cell_type": "code",
   "execution_count": 89,
   "metadata": {},
   "outputs": [
    {
     "data": {
      "text/html": [
       "<div>\n",
       "<style scoped>\n",
       "    .dataframe tbody tr th:only-of-type {\n",
       "        vertical-align: middle;\n",
       "    }\n",
       "\n",
       "    .dataframe tbody tr th {\n",
       "        vertical-align: top;\n",
       "    }\n",
       "\n",
       "    .dataframe thead th {\n",
       "        text-align: right;\n",
       "    }\n",
       "</style>\n",
       "<table border=\"1\" class=\"dataframe\">\n",
       "  <thead>\n",
       "    <tr style=\"text-align: right;\">\n",
       "      <th></th>\n",
       "      <th>RF1</th>\n",
       "      <th>RF2</th>\n",
       "      <th>RF3</th>\n",
       "      <th>MLP1</th>\n",
       "      <th>MLP2</th>\n",
       "      <th>MLP3</th>\n",
       "    </tr>\n",
       "  </thead>\n",
       "  <tbody>\n",
       "    <tr>\n",
       "      <th>accuracy</th>\n",
       "      <td>0.94087</td>\n",
       "      <td>0.928533</td>\n",
       "      <td>0.867669</td>\n",
       "      <td>0.937653</td>\n",
       "      <td>0.065333</td>\n",
       "      <td>0.16935</td>\n",
       "    </tr>\n",
       "  </tbody>\n",
       "</table>\n",
       "</div>"
      ],
      "text/plain": [
       "              RF1       RF2       RF3      MLP1      MLP2     MLP3\n",
       "accuracy  0.94087  0.928533  0.867669  0.937653  0.065333  0.16935"
      ]
     },
     "execution_count": 89,
     "metadata": {},
     "output_type": "execute_result"
    }
   ],
   "source": [
    "#Extract Accuracy score from classification report of each algorithm and data cleaning approach\n",
    "accuracy=(cr_RF1.iloc[0,2],cr_RF2.iloc[0,2], cr_RF3.iloc[0,2], cr_MLP1.iloc[0,2], cr_MLP2.iloc[0,2], cr_MLP3.iloc[0,2])\n",
    "accuracy = pd.DataFrame(accuracy, columns=[\"accuracy\"]).T\n",
    "accuracy.columns=[\"RF1\",\"RF2\",\"RF3\",\"MLP1\",\"MLP2\",\"MLP3\"]\n",
    "accuracy"
   ]
  },
  {
   "cell_type": "code",
   "execution_count": 100,
   "metadata": {},
   "outputs": [
    {
     "data": {
      "text/html": [
       "<div>\n",
       "<style scoped>\n",
       "    .dataframe tbody tr th:only-of-type {\n",
       "        vertical-align: middle;\n",
       "    }\n",
       "\n",
       "    .dataframe tbody tr th {\n",
       "        vertical-align: top;\n",
       "    }\n",
       "\n",
       "    .dataframe thead th {\n",
       "        text-align: right;\n",
       "    }\n",
       "</style>\n",
       "<table border=\"1\" class=\"dataframe\">\n",
       "  <thead>\n",
       "    <tr style=\"text-align: right;\">\n",
       "      <th></th>\n",
       "      <th>RF1</th>\n",
       "      <th>RF2</th>\n",
       "      <th>RF3</th>\n",
       "      <th>MLP1</th>\n",
       "      <th>MLP2</th>\n",
       "      <th>MLP3</th>\n",
       "    </tr>\n",
       "  </thead>\n",
       "  <tbody>\n",
       "    <tr>\n",
       "      <th>precision</th>\n",
       "      <td>0.761509</td>\n",
       "      <td>0.678089</td>\n",
       "      <td>0.777438</td>\n",
       "      <td>0.505091</td>\n",
       "      <td>0.032667</td>\n",
       "      <td>0.084675</td>\n",
       "    </tr>\n",
       "    <tr>\n",
       "      <th>recall</th>\n",
       "      <td>0.561976</td>\n",
       "      <td>0.595423</td>\n",
       "      <td>0.701694</td>\n",
       "      <td>0.500112</td>\n",
       "      <td>0.500000</td>\n",
       "      <td>0.500000</td>\n",
       "    </tr>\n",
       "    <tr>\n",
       "      <th>f1-score</th>\n",
       "      <td>0.590857</td>\n",
       "      <td>0.620986</td>\n",
       "      <td>0.729249</td>\n",
       "      <td>0.485359</td>\n",
       "      <td>0.061327</td>\n",
       "      <td>0.144824</td>\n",
       "    </tr>\n",
       "    <tr>\n",
       "      <th>accuracy</th>\n",
       "      <td>0.940870</td>\n",
       "      <td>0.928533</td>\n",
       "      <td>0.867669</td>\n",
       "      <td>0.937653</td>\n",
       "      <td>0.065333</td>\n",
       "      <td>0.169350</td>\n",
       "    </tr>\n",
       "  </tbody>\n",
       "</table>\n",
       "</div>"
      ],
      "text/plain": [
       "                RF1       RF2       RF3      MLP1      MLP2      MLP3\n",
       "precision  0.761509  0.678089  0.777438  0.505091  0.032667  0.084675\n",
       "recall     0.561976  0.595423  0.701694  0.500112  0.500000  0.500000\n",
       "f1-score   0.590857  0.620986  0.729249  0.485359  0.061327  0.144824\n",
       "accuracy   0.940870  0.928533  0.867669  0.937653  0.065333  0.169350"
      ]
     },
     "execution_count": 100,
     "metadata": {},
     "output_type": "execute_result"
    }
   ],
   "source": [
    "#Combine the above 2 tables to have 4 performance measures (Precision, Recall, f-1 score and accuracy score)\n",
    "fourmeasure_table = measure_table.append(accuracy, sort=False)\n",
    "fourmeasure_table"
   ]
  },
  {
   "cell_type": "code",
   "execution_count": 96,
   "metadata": {},
   "outputs": [
    {
     "data": {
      "text/html": [
       "<div>\n",
       "<style scoped>\n",
       "    .dataframe tbody tr th:only-of-type {\n",
       "        vertical-align: middle;\n",
       "    }\n",
       "\n",
       "    .dataframe tbody tr th {\n",
       "        vertical-align: top;\n",
       "    }\n",
       "\n",
       "    .dataframe thead th {\n",
       "        text-align: right;\n",
       "    }\n",
       "</style>\n",
       "<table border=\"1\" class=\"dataframe\">\n",
       "  <thead>\n",
       "    <tr style=\"text-align: right;\">\n",
       "      <th></th>\n",
       "      <th>RF1</th>\n",
       "      <th>RF2</th>\n",
       "      <th>RF3</th>\n",
       "      <th>MLP1</th>\n",
       "      <th>MLP2</th>\n",
       "      <th>MLP3</th>\n",
       "    </tr>\n",
       "  </thead>\n",
       "  <tbody>\n",
       "    <tr>\n",
       "      <th>specificity</th>\n",
       "      <td>0.130178</td>\n",
       "      <td>0.212245</td>\n",
       "      <td>0.450712</td>\n",
       "      <td>0.001479</td>\n",
       "      <td>1.0</td>\n",
       "      <td>1.0</td>\n",
       "    </tr>\n",
       "  </tbody>\n",
       "</table>\n",
       "</div>"
      ],
      "text/plain": [
       "                  RF1       RF2       RF3      MLP1  MLP2  MLP3\n",
       "specificity  0.130178  0.212245  0.450712  0.001479   1.0   1.0"
      ]
     },
     "execution_count": 96,
     "metadata": {},
     "output_type": "execute_result"
    }
   ],
   "source": [
    "#Populate all Specificity scores of each algorithm and data cleaning approach into one table\n",
    "specificity =(Specificity_RF1, Specificity_RF2, Specificity_RF3, Specificity_MLP1, Specificity_MLP2, Specificity_MLP3)\n",
    "specificity = pd.DataFrame(specificity, columns=[\"specificity\"]).T\n",
    "specificity.columns=[\"RF1\",\"RF2\",\"RF3\",\"MLP1\",\"MLP2\",\"MLP3\"]\n",
    "specificity"
   ]
  },
  {
   "cell_type": "code",
   "execution_count": 101,
   "metadata": {},
   "outputs": [
    {
     "data": {
      "text/html": [
       "<div>\n",
       "<style scoped>\n",
       "    .dataframe tbody tr th:only-of-type {\n",
       "        vertical-align: middle;\n",
       "    }\n",
       "\n",
       "    .dataframe tbody tr th {\n",
       "        vertical-align: top;\n",
       "    }\n",
       "\n",
       "    .dataframe thead th {\n",
       "        text-align: right;\n",
       "    }\n",
       "</style>\n",
       "<table border=\"1\" class=\"dataframe\">\n",
       "  <thead>\n",
       "    <tr style=\"text-align: right;\">\n",
       "      <th></th>\n",
       "      <th>RF1</th>\n",
       "      <th>RF2</th>\n",
       "      <th>RF3</th>\n",
       "      <th>MLP1</th>\n",
       "      <th>MLP2</th>\n",
       "      <th>MLP3</th>\n",
       "    </tr>\n",
       "  </thead>\n",
       "  <tbody>\n",
       "    <tr>\n",
       "      <th>precision</th>\n",
       "      <td>0.761509</td>\n",
       "      <td>0.678089</td>\n",
       "      <td>0.777438</td>\n",
       "      <td>0.505091</td>\n",
       "      <td>0.032667</td>\n",
       "      <td>0.084675</td>\n",
       "    </tr>\n",
       "    <tr>\n",
       "      <th>recall</th>\n",
       "      <td>0.561976</td>\n",
       "      <td>0.595423</td>\n",
       "      <td>0.701694</td>\n",
       "      <td>0.500112</td>\n",
       "      <td>0.500000</td>\n",
       "      <td>0.500000</td>\n",
       "    </tr>\n",
       "    <tr>\n",
       "      <th>f1-score</th>\n",
       "      <td>0.590857</td>\n",
       "      <td>0.620986</td>\n",
       "      <td>0.729249</td>\n",
       "      <td>0.485359</td>\n",
       "      <td>0.061327</td>\n",
       "      <td>0.144824</td>\n",
       "    </tr>\n",
       "    <tr>\n",
       "      <th>accuracy</th>\n",
       "      <td>0.940870</td>\n",
       "      <td>0.928533</td>\n",
       "      <td>0.867669</td>\n",
       "      <td>0.937653</td>\n",
       "      <td>0.065333</td>\n",
       "      <td>0.169350</td>\n",
       "    </tr>\n",
       "    <tr>\n",
       "      <th>specificity</th>\n",
       "      <td>0.130178</td>\n",
       "      <td>0.212245</td>\n",
       "      <td>0.450712</td>\n",
       "      <td>0.001479</td>\n",
       "      <td>1.000000</td>\n",
       "      <td>1.000000</td>\n",
       "    </tr>\n",
       "  </tbody>\n",
       "</table>\n",
       "</div>"
      ],
      "text/plain": [
       "                  RF1       RF2       RF3      MLP1      MLP2      MLP3\n",
       "precision    0.761509  0.678089  0.777438  0.505091  0.032667  0.084675\n",
       "recall       0.561976  0.595423  0.701694  0.500112  0.500000  0.500000\n",
       "f1-score     0.590857  0.620986  0.729249  0.485359  0.061327  0.144824\n",
       "accuracy     0.940870  0.928533  0.867669  0.937653  0.065333  0.169350\n",
       "specificity  0.130178  0.212245  0.450712  0.001479  1.000000  1.000000"
      ]
     },
     "execution_count": 101,
     "metadata": {},
     "output_type": "execute_result"
    }
   ],
   "source": [
    "#Combine the above 4-measure table with the specificity table to have all 5 performance measures\n",
    "Measure_Table = fourmeasure_table.append(specificity, sort=False)\n",
    "Measure_Table"
   ]
  },
  {
   "cell_type": "markdown",
   "metadata": {},
   "source": [
    "### Visualization of Variable Importance for Random Forest algorithm"
   ]
  },
  {
   "cell_type": "code",
   "execution_count": 893,
   "metadata": {},
   "outputs": [
    {
     "data": {
      "text/plain": [
       "Text(0.5, 1.0, 'Variable Importance Plot for Random Forest on Sample 1')"
      ]
     },
     "execution_count": 893,
     "metadata": {},
     "output_type": "execute_result"
    },
    {
     "data": {
      "image/png": "[encoded data removed]",
      "text/plain": [
       "<Figure size 432x288 with 1 Axes>"
      ]
     },
     "metadata": {
      "needs_background": "light"
     },
     "output_type": "display_data"
    }
   ],
   "source": [
    "#Variable importances for LoanData1 dataset\n",
    "RF1class_VarImportance = pd.Series(RF1_class.feature_importances_, index = X1.columns)\n",
    "\n",
    "#Visualize with bar chart\n",
    "RF1class_VarImportance.nlargest(10).plot(kind=\"bar\", rot=35, color=\"orange\")\n",
    "plt.title(\"Variable Importance Plot for Random Forest on Sample 1\", size=15, weight=\"bold\")"
   ]
  },
  {
   "cell_type": "code",
   "execution_count": 894,
   "metadata": {},
   "outputs": [
    {
     "data": {
      "text/plain": [
       "Text(0.5, 1.0, 'Variable Importance Plot for Random Forest on Sample 2')"
      ]
     },
     "execution_count": 894,
     "metadata": {},
     "output_type": "execute_result"
    },
    {
     "data": {
      "image/png": "[encoded data removed]",
      "text/plain": [
       "<Figure size 432x288 with 1 Axes>"
      ]
     },
     "metadata": {
      "needs_background": "light"
     },
     "output_type": "display_data"
    }
   ],
   "source": [
    "#Variable importances for LoanData2 dataset\n",
    "RF2class_VarImportance = pd.Series(RF2_class.feature_importances_, index = X2.columns)\n",
    "\n",
    "#Visualize with bar chart\n",
    "RF2class_VarImportance.nlargest(10).plot(kind=\"bar\", rot=35, color=\"lightgray\")\n",
    "plt.title(\"Variable Importance Plot for Random Forest on Sample 2\", size=15, weight=\"bold\")"
   ]
  },
  {
   "cell_type": "code",
   "execution_count": 891,
   "metadata": {},
   "outputs": [
    {
     "data": {
      "text/plain": [
       "Text(0.5, 1.0, 'Variable Importance Plot for Random Forest on Sample 3')"
      ]
     },
     "execution_count": 891,
     "metadata": {},
     "output_type": "execute_result"
    },
    {
     "data": {
      "image/png": "[encoded data removed]",
      "text/plain": [
       "<Figure size 432x288 with 1 Axes>"
      ]
     },
     "metadata": {
      "needs_background": "light"
     },
     "output_type": "display_data"
    }
   ],
   "source": [
    "#Variable importances for LoanData3 dataset\n",
    "RF3class_VarImportance = pd.Series(RF3_class.feature_importances_, index = X3.columns)\n",
    "\n",
    "#Visualize with bar chart\n",
    "RF3class_VarImportance.nlargest(10).plot(kind=\"bar\", rot=35, color=\"darkcyan\")\n",
    "plt.title(\"Variable Importance Plot for Random Forest on Sample 3\", size=15, weight=\"bold\")"
   ]
  }
 ],
 "metadata": {
  "kernelspec": {
   "display_name": "Python 3",
   "language": "python",
   "name": "python3"
  },
  "language_info": {
   "codemirror_mode": {
    "name": "ipython",
    "version": 3
   },
   "file_extension": ".py",
   "mimetype": "text/x-python",
   "name": "python",
   "nbconvert_exporter": "python",
   "pygments_lexer": "ipython3",
   "version": "3.7.6"
  }
 },
 "nbformat": 4,
 "nbformat_minor": 4
}
