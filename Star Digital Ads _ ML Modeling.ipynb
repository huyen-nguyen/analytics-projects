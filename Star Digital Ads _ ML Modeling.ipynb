{
 "cells": [
  {
   "cell_type": "markdown",
   "metadata": {},
   "source": [
    "### Load required Libraries"
   ]
  },
  {
   "cell_type": "code",
   "execution_count": 88,
   "metadata": {},
   "outputs": [],
   "source": [
    "#Import pandas to read the dataset\n",
    "import pandas as pd\n",
    "#Import numpy\n",
    "import numpy as np\n",
    "#Import sklearn for machine learning algorithm\n",
    "import sklearn\n",
    "#Import train_test_split function\n",
    "from sklearn.model_selection import train_test_split\n",
    "#Import Random Forest Classifier\n",
    "from sklearn.ensemble import RandomForestClassifier\n",
    "#Import sklearn metrics module for R squared score\n",
    "from sklearn.metrics import r2_score\n",
    "#Import sklearn metrics module for accuracy calculation\n",
    "from sklearn import metrics\n",
    "#Import classification report module to calculate precision, f1 score, etc.\n",
    "from sklearn.metrics import classification_report\n",
    "#Import confusion matrix module to generate confusion matrix\n",
    "from sklearn.metrics import confusion_matrix\n",
    "\n",
    "#Import pyplot for data visualization\n",
    "import matplotlib.pyplot as plt\n",
    "\n",
    "#Disable chained_assignment warning that may distract reading\n",
    "pd.options.mode.chained_assignment = None"
   ]
  },
  {
   "cell_type": "markdown",
   "metadata": {},
   "source": [
    "### Step 1: Obtain Data"
   ]
  },
  {
   "cell_type": "code",
   "execution_count": 89,
   "metadata": {},
   "outputs": [],
   "source": [
    "DigitalData = pd.read_excel(\"/Users/phuonglucydoan/Desktop/Portfolio/Star Digital Case/StarDigitalCase_RawData.xlsx\")"
   ]
  },
  {
   "cell_type": "code",
   "execution_count": 90,
   "metadata": {},
   "outputs": [
    {
     "data": {
      "text/html": [
       "<div>\n",
       "<style scoped>\n",
       "    .dataframe tbody tr th:only-of-type {\n",
       "        vertical-align: middle;\n",
       "    }\n",
       "\n",
       "    .dataframe tbody tr th {\n",
       "        vertical-align: top;\n",
       "    }\n",
       "\n",
       "    .dataframe thead th {\n",
       "        text-align: right;\n",
       "    }\n",
       "</style>\n",
       "<table border=\"1\" class=\"dataframe\">\n",
       "  <thead>\n",
       "    <tr style=\"text-align: right;\">\n",
       "      <th></th>\n",
       "      <th>id</th>\n",
       "      <th>purchase</th>\n",
       "      <th>test</th>\n",
       "      <th>imp_1</th>\n",
       "      <th>imp_2</th>\n",
       "      <th>imp_3</th>\n",
       "      <th>imp_4</th>\n",
       "      <th>imp_5</th>\n",
       "      <th>imp_6</th>\n",
       "    </tr>\n",
       "  </thead>\n",
       "  <tbody>\n",
       "    <tr>\n",
       "      <th>16306</th>\n",
       "      <td>651638</td>\n",
       "      <td>1</td>\n",
       "      <td>1</td>\n",
       "      <td>0</td>\n",
       "      <td>15</td>\n",
       "      <td>0</td>\n",
       "      <td>0</td>\n",
       "      <td>0</td>\n",
       "      <td>0</td>\n",
       "    </tr>\n",
       "    <tr>\n",
       "      <th>12942</th>\n",
       "      <td>268722</td>\n",
       "      <td>0</td>\n",
       "      <td>0</td>\n",
       "      <td>0</td>\n",
       "      <td>1</td>\n",
       "      <td>0</td>\n",
       "      <td>0</td>\n",
       "      <td>0</td>\n",
       "      <td>0</td>\n",
       "    </tr>\n",
       "    <tr>\n",
       "      <th>2458</th>\n",
       "      <td>603247</td>\n",
       "      <td>1</td>\n",
       "      <td>1</td>\n",
       "      <td>0</td>\n",
       "      <td>0</td>\n",
       "      <td>0</td>\n",
       "      <td>0</td>\n",
       "      <td>0</td>\n",
       "      <td>1</td>\n",
       "    </tr>\n",
       "    <tr>\n",
       "      <th>14537</th>\n",
       "      <td>721096</td>\n",
       "      <td>0</td>\n",
       "      <td>1</td>\n",
       "      <td>0</td>\n",
       "      <td>3</td>\n",
       "      <td>0</td>\n",
       "      <td>0</td>\n",
       "      <td>0</td>\n",
       "      <td>10</td>\n",
       "    </tr>\n",
       "    <tr>\n",
       "      <th>4002</th>\n",
       "      <td>290689</td>\n",
       "      <td>0</td>\n",
       "      <td>1</td>\n",
       "      <td>0</td>\n",
       "      <td>0</td>\n",
       "      <td>0</td>\n",
       "      <td>0</td>\n",
       "      <td>0</td>\n",
       "      <td>1</td>\n",
       "    </tr>\n",
       "  </tbody>\n",
       "</table>\n",
       "</div>"
      ],
      "text/plain": [
       "           id  purchase  test  imp_1  imp_2  imp_3  imp_4  imp_5  imp_6\n",
       "16306  651638         1     1      0     15      0      0      0      0\n",
       "12942  268722         0     0      0      1      0      0      0      0\n",
       "2458   603247         1     1      0      0      0      0      0      1\n",
       "14537  721096         0     1      0      3      0      0      0     10\n",
       "4002   290689         0     1      0      0      0      0      0      1"
      ]
     },
     "execution_count": 90,
     "metadata": {},
     "output_type": "execute_result"
    }
   ],
   "source": [
    "DigitalData.sample(5)"
   ]
  },
  {
   "cell_type": "markdown",
   "metadata": {},
   "source": [
    "### Step 2: Data pre-processing"
   ]
  },
  {
   "cell_type": "markdown",
   "metadata": {},
   "source": [
    "#### 2.1. Check column names"
   ]
  },
  {
   "cell_type": "code",
   "execution_count": 91,
   "metadata": {},
   "outputs": [
    {
     "data": {
      "text/plain": [
       "Index(['id', 'purchase', 'test', 'imp_1', 'imp_2', 'imp_3', 'imp_4', 'imp_5',\n",
       "       'imp_6'],\n",
       "      dtype='object')"
      ]
     },
     "execution_count": 91,
     "metadata": {},
     "output_type": "execute_result"
    }
   ],
   "source": [
    "#Check column names for any typos\n",
    "DigitalData.columns"
   ]
  },
  {
   "cell_type": "markdown",
   "metadata": {},
   "source": [
    "#### 2.2. Handle input errors in data type"
   ]
  },
  {
   "cell_type": "code",
   "execution_count": 92,
   "metadata": {},
   "outputs": [
    {
     "data": {
      "text/html": [
       "<div>\n",
       "<style scoped>\n",
       "    .dataframe tbody tr th:only-of-type {\n",
       "        vertical-align: middle;\n",
       "    }\n",
       "\n",
       "    .dataframe tbody tr th {\n",
       "        vertical-align: top;\n",
       "    }\n",
       "\n",
       "    .dataframe thead th {\n",
       "        text-align: right;\n",
       "    }\n",
       "</style>\n",
       "<table border=\"1\" class=\"dataframe\">\n",
       "  <thead>\n",
       "    <tr style=\"text-align: right;\">\n",
       "      <th></th>\n",
       "      <th>id</th>\n",
       "      <th>purchase</th>\n",
       "      <th>test</th>\n",
       "      <th>imp_1</th>\n",
       "      <th>imp_2</th>\n",
       "      <th>imp_3</th>\n",
       "      <th>imp_4</th>\n",
       "      <th>imp_5</th>\n",
       "      <th>imp_6</th>\n",
       "    </tr>\n",
       "  </thead>\n",
       "  <tbody>\n",
       "    <tr>\n",
       "      <th>count</th>\n",
       "      <td>2.530300e+04</td>\n",
       "      <td>25303.000000</td>\n",
       "      <td>25303.000000</td>\n",
       "      <td>25303.000000</td>\n",
       "      <td>25303.000000</td>\n",
       "      <td>25303.000000</td>\n",
       "      <td>25303.000000</td>\n",
       "      <td>25303.000000</td>\n",
       "      <td>25303.000000</td>\n",
       "    </tr>\n",
       "    <tr>\n",
       "      <th>mean</th>\n",
       "      <td>7.089534e+05</td>\n",
       "      <td>0.502865</td>\n",
       "      <td>0.895032</td>\n",
       "      <td>0.930917</td>\n",
       "      <td>3.427775</td>\n",
       "      <td>0.094771</td>\n",
       "      <td>1.589495</td>\n",
       "      <td>0.048967</td>\n",
       "      <td>1.783464</td>\n",
       "    </tr>\n",
       "    <tr>\n",
       "      <th>std</th>\n",
       "      <td>4.084545e+05</td>\n",
       "      <td>0.500002</td>\n",
       "      <td>0.306518</td>\n",
       "      <td>5.629510</td>\n",
       "      <td>13.755455</td>\n",
       "      <td>1.505434</td>\n",
       "      <td>6.683091</td>\n",
       "      <td>0.570752</td>\n",
       "      <td>7.010298</td>\n",
       "    </tr>\n",
       "    <tr>\n",
       "      <th>min</th>\n",
       "      <td>2.700000e+01</td>\n",
       "      <td>0.000000</td>\n",
       "      <td>0.000000</td>\n",
       "      <td>0.000000</td>\n",
       "      <td>0.000000</td>\n",
       "      <td>0.000000</td>\n",
       "      <td>0.000000</td>\n",
       "      <td>0.000000</td>\n",
       "      <td>0.000000</td>\n",
       "    </tr>\n",
       "    <tr>\n",
       "      <th>25%</th>\n",
       "      <td>3.538805e+05</td>\n",
       "      <td>0.000000</td>\n",
       "      <td>1.000000</td>\n",
       "      <td>0.000000</td>\n",
       "      <td>0.000000</td>\n",
       "      <td>0.000000</td>\n",
       "      <td>0.000000</td>\n",
       "      <td>0.000000</td>\n",
       "      <td>0.000000</td>\n",
       "    </tr>\n",
       "    <tr>\n",
       "      <th>50%</th>\n",
       "      <td>7.083440e+05</td>\n",
       "      <td>1.000000</td>\n",
       "      <td>1.000000</td>\n",
       "      <td>0.000000</td>\n",
       "      <td>0.000000</td>\n",
       "      <td>0.000000</td>\n",
       "      <td>0.000000</td>\n",
       "      <td>0.000000</td>\n",
       "      <td>1.000000</td>\n",
       "    </tr>\n",
       "    <tr>\n",
       "      <th>75%</th>\n",
       "      <td>1.062738e+06</td>\n",
       "      <td>1.000000</td>\n",
       "      <td>1.000000</td>\n",
       "      <td>0.000000</td>\n",
       "      <td>2.000000</td>\n",
       "      <td>0.000000</td>\n",
       "      <td>0.000000</td>\n",
       "      <td>0.000000</td>\n",
       "      <td>2.000000</td>\n",
       "    </tr>\n",
       "    <tr>\n",
       "      <th>max</th>\n",
       "      <td>1.413367e+06</td>\n",
       "      <td>1.000000</td>\n",
       "      <td>1.000000</td>\n",
       "      <td>296.000000</td>\n",
       "      <td>373.000000</td>\n",
       "      <td>148.000000</td>\n",
       "      <td>225.000000</td>\n",
       "      <td>51.000000</td>\n",
       "      <td>404.000000</td>\n",
       "    </tr>\n",
       "  </tbody>\n",
       "</table>\n",
       "</div>"
      ],
      "text/plain": [
       "                 id      purchase          test         imp_1         imp_2  \\\n",
       "count  2.530300e+04  25303.000000  25303.000000  25303.000000  25303.000000   \n",
       "mean   7.089534e+05      0.502865      0.895032      0.930917      3.427775   \n",
       "std    4.084545e+05      0.500002      0.306518      5.629510     13.755455   \n",
       "min    2.700000e+01      0.000000      0.000000      0.000000      0.000000   \n",
       "25%    3.538805e+05      0.000000      1.000000      0.000000      0.000000   \n",
       "50%    7.083440e+05      1.000000      1.000000      0.000000      0.000000   \n",
       "75%    1.062738e+06      1.000000      1.000000      0.000000      2.000000   \n",
       "max    1.413367e+06      1.000000      1.000000    296.000000    373.000000   \n",
       "\n",
       "              imp_3         imp_4         imp_5         imp_6  \n",
       "count  25303.000000  25303.000000  25303.000000  25303.000000  \n",
       "mean       0.094771      1.589495      0.048967      1.783464  \n",
       "std        1.505434      6.683091      0.570752      7.010298  \n",
       "min        0.000000      0.000000      0.000000      0.000000  \n",
       "25%        0.000000      0.000000      0.000000      0.000000  \n",
       "50%        0.000000      0.000000      0.000000      1.000000  \n",
       "75%        0.000000      0.000000      0.000000      2.000000  \n",
       "max      148.000000    225.000000     51.000000    404.000000  "
      ]
     },
     "execution_count": 92,
     "metadata": {},
     "output_type": "execute_result"
    }
   ],
   "source": [
    "#Data summary\n",
    "DigitalData.describe()"
   ]
  },
  {
   "cell_type": "code",
   "execution_count": 111,
   "metadata": {},
   "outputs": [],
   "source": [
    "DigitalData[\"purchase\"] = DigitalData[\"purchase\"].astype(\"category\")"
   ]
  },
  {
   "cell_type": "code",
   "execution_count": 112,
   "metadata": {},
   "outputs": [
    {
     "data": {
      "text/plain": [
       "id             int64\n",
       "purchase    category\n",
       "test           int64\n",
       "imp_1          int64\n",
       "imp_2          int64\n",
       "imp_3          int64\n",
       "imp_4          int64\n",
       "imp_5          int64\n",
       "imp_6          int64\n",
       "dtype: object"
      ]
     },
     "execution_count": 112,
     "metadata": {},
     "output_type": "execute_result"
    }
   ],
   "source": [
    "#Check data types\n",
    "DigitalData.dtypes"
   ]
  },
  {
   "cell_type": "code",
   "execution_count": 94,
   "metadata": {},
   "outputs": [
    {
     "data": {
      "text/plain": [
       "id          0\n",
       "purchase    0\n",
       "test        0\n",
       "imp_1       0\n",
       "imp_2       0\n",
       "imp_3       0\n",
       "imp_4       0\n",
       "imp_5       0\n",
       "imp_6       0\n",
       "dtype: int64"
      ]
     },
     "execution_count": 94,
     "metadata": {},
     "output_type": "execute_result"
    }
   ],
   "source": [
    "#Check if there is any missing data\n",
    "DigitalData.isnull().sum()"
   ]
  },
  {
   "cell_type": "markdown",
   "metadata": {},
   "source": [
    "### Step 3: Split the processed data into training and testing data"
   ]
  },
  {
   "cell_type": "code",
   "execution_count": 118,
   "metadata": {},
   "outputs": [],
   "source": [
    "X = pd.DataFrame(DigitalData.iloc[:,3:9])\n",
    "y = pd.DataFrame(DigitalData.iloc[:,1])\n",
    "\n",
    "X_train, X_test, y_train, y_test=train_test_split(X,y, test_size=0.3, random_state=8810)"
   ]
  },
  {
   "cell_type": "markdown",
   "metadata": {},
   "source": [
    "### Step 4: Learn from training datasets and make predictions"
   ]
  },
  {
   "cell_type": "code",
   "execution_count": 120,
   "metadata": {},
   "outputs": [
    {
     "name": "stderr",
     "output_type": "stream",
     "text": [
      "/opt/anaconda3/lib/python3.7/site-packages/ipykernel_launcher.py:2: DataConversionWarning: A column-vector y was passed when a 1d array was expected. Please change the shape of y to (n_samples,), for example using ravel().\n",
      "  \n"
     ]
    }
   ],
   "source": [
    "RF_class = RandomForestClassifier(n_estimators=50)\n",
    "RF_class = RF_class.fit(X_train, y_train)\n",
    "y_pred_RF = RF_class.predict(X_test)"
   ]
  },
  {
   "cell_type": "markdown",
   "metadata": {},
   "source": [
    "### Step 5: Evaluate Random Forest model"
   ]
  },
  {
   "cell_type": "code",
   "execution_count": 121,
   "metadata": {},
   "outputs": [
    {
     "data": {
      "text/plain": [
       "-0.387"
      ]
     },
     "execution_count": 121,
     "metadata": {},
     "output_type": "execute_result"
    }
   ],
   "source": [
    "#R-squared\n",
    "Rsquared_RF = r2_score(y_test, y_pred_RF).round(decimals=3)\n",
    "Rsquared_RF"
   ]
  },
  {
   "cell_type": "code",
   "execution_count": 122,
   "metadata": {},
   "outputs": [],
   "source": [
    "#Confusion matrix\n",
    "cm_RF = confusion_matrix(y_test, y_pred_RF)"
   ]
  },
  {
   "cell_type": "code",
   "execution_count": 123,
   "metadata": {},
   "outputs": [
    {
     "name": "stdout",
     "output_type": "stream",
     "text": [
      "Confusion Matrix of Random Forest Classifier on sample 1:\n",
      "                 Predicted Class 0  Predicted Class 1\n",
      "Actual Class 0               3412                358\n",
      "Actual Class 1               2274               1547\n"
     ]
    }
   ],
   "source": [
    "#Convert Confusion Matrix into dataframe for better readability\n",
    "cm_RF_df = pd.DataFrame(cm_RF, columns=[\"Predicted Class \" + str(class_name) for class_name in [0,1]],\n",
    "                        index = [\"Actual Class \" + str(class_name) for class_name in [0,1]])\n",
    "\n",
    "print(\"Confusion Matrix of Random Forest Classifier on sample 1:\\n\", cm_RF_df)"
   ]
  },
  {
   "cell_type": "code",
   "execution_count": 124,
   "metadata": {},
   "outputs": [
    {
     "name": "stdout",
     "output_type": "stream",
     "text": [
      "Specificity score of RF is  0.4048678356451191\n"
     ]
    }
   ],
   "source": [
    "#Calculate Specificity measure from Confusion matrix\n",
    "Specificity_RF = cm_RF[1,1]/(cm_RF[1,0] + cm_RF[1,1])\n",
    "\n",
    "print(\"Specificity score of RF is \", Specificity_RF)"
   ]
  },
  {
   "cell_type": "code",
   "execution_count": 125,
   "metadata": {},
   "outputs": [
    {
     "name": "stdout",
     "output_type": "stream",
     "text": [
      "Accuracy score of RF is  0.6532736134896588\n"
     ]
    }
   ],
   "source": [
    "#Accuracy score\n",
    "Accuracy_RF = metrics.accuracy_score(y_test, y_pred_RF)\n",
    "print(\"Accuracy score of RF is \", Accuracy_RF)"
   ]
  },
  {
   "cell_type": "code",
   "execution_count": 126,
   "metadata": {},
   "outputs": [
    {
     "name": "stdout",
     "output_type": "stream",
     "text": [
      "Classification Report of Random Forest Classifier:\n",
      "                      0            1  accuracy    macro avg  weighted avg\n",
      "precision     0.600070     0.812073  0.653274     0.706072      0.706784\n",
      "recall        0.905040     0.404868  0.653274     0.654954      0.653274\n",
      "f1-score      0.721658     0.540342  0.653274     0.631000      0.630391\n",
      "support    3770.000000  3821.000000  0.653274  7591.000000   7591.000000\n"
     ]
    }
   ],
   "source": [
    "#Classification report\n",
    "cr_RF = pd.DataFrame(metrics.classification_report(y_test, y_pred_RF, output_dict=True))\n",
    "\n",
    "print(\"Classification Report of Random Forest Classifier:\\n\", cr_RF)"
   ]
  },
  {
   "cell_type": "markdown",
   "metadata": {},
   "source": [
    "### Performance Measure Table"
   ]
  },
  {
   "cell_type": "code",
   "execution_count": 127,
   "metadata": {},
   "outputs": [],
   "source": [
    "#Extract Precision, Recall and f-1 score from classification report of each algorithm\n",
    "measure_RF = pd.DataFrame(cr_RF.iloc[:-1,3])"
   ]
  },
  {
   "cell_type": "code",
   "execution_count": 128,
   "metadata": {},
   "outputs": [
    {
     "data": {
      "text/html": [
       "<div>\n",
       "<style scoped>\n",
       "    .dataframe tbody tr th:only-of-type {\n",
       "        vertical-align: middle;\n",
       "    }\n",
       "\n",
       "    .dataframe tbody tr th {\n",
       "        vertical-align: top;\n",
       "    }\n",
       "\n",
       "    .dataframe thead th {\n",
       "        text-align: right;\n",
       "    }\n",
       "</style>\n",
       "<table border=\"1\" class=\"dataframe\">\n",
       "  <thead>\n",
       "    <tr style=\"text-align: right;\">\n",
       "      <th></th>\n",
       "      <th>macro avg</th>\n",
       "    </tr>\n",
       "  </thead>\n",
       "  <tbody>\n",
       "    <tr>\n",
       "      <th>precision</th>\n",
       "      <td>0.706072</td>\n",
       "    </tr>\n",
       "    <tr>\n",
       "      <th>recall</th>\n",
       "      <td>0.654954</td>\n",
       "    </tr>\n",
       "    <tr>\n",
       "      <th>f1-score</th>\n",
       "      <td>0.631000</td>\n",
       "    </tr>\n",
       "  </tbody>\n",
       "</table>\n",
       "</div>"
      ],
      "text/plain": [
       "           macro avg\n",
       "precision   0.706072\n",
       "recall      0.654954\n",
       "f1-score    0.631000"
      ]
     },
     "execution_count": 128,
     "metadata": {},
     "output_type": "execute_result"
    }
   ],
   "source": [
    "#Combine them into a table\n",
    "measure_RF"
   ]
  },
  {
   "cell_type": "markdown",
   "metadata": {},
   "source": [
    "### Visualization of Variable Importance for Random Forest Classifier"
   ]
  },
  {
   "cell_type": "code",
   "execution_count": 130,
   "metadata": {},
   "outputs": [
    {
     "data": {
      "text/plain": [
       "Text(0.5, 1.0, 'Variable Importance Plot for Random Forest Classifier')"
      ]
     },
     "execution_count": 130,
     "metadata": {},
     "output_type": "execute_result"
    },
    {
     "data": {
      "image/png": "[encoded data removed]",
      "text/plain": [
       "<Figure size 432x288 with 1 Axes>"
      ]
     },
     "metadata": {
      "needs_background": "light"
     },
     "output_type": "display_data"
    }
   ],
   "source": [
    "#Variable importances\n",
    "RFclass_VarImportance = pd.Series(RF_class.feature_importances_, index = X.columns)\n",
    "\n",
    "#Visualize with bar chart\n",
    "RFclass_VarImportance.nlargest(6).plot(kind=\"bar\", rot=35, color=\"orange\")\n",
    "plt.title(\"Variable Importance Plot for Random Forest Classifier\", size=15, weight=\"bold\")"
   ]
  },
  {
   "cell_type": "code",
   "execution_count": 134,
   "metadata": {},
   "outputs": [
    {
     "data": {
      "image/png": "[encoded data removed]",
      "text/plain": [
       "<Figure size 432x288 with 2 Axes>"
      ]
     },
     "metadata": {
      "needs_background": "light"
     },
     "output_type": "display_data"
    }
   ],
   "source": [
    "x = [\"imp_3\", \"imp_6\", \"imp_5\", \"imp_1\", \"imp_4\", \"imp_2\"]\n",
    "y1 = [7886.57, 8480.07, 5888.62, 5394.01, 5045.97, 3328.28]\n",
    "y2 = [6.09, 7.08, 8.15, 8.90, 9.51, 14.42]\n",
    "\n",
    "fig, ax1 = plt.subplots()\n",
    "\n",
    "ax2 = ax1.twinx()\n",
    "ax1.plot(x, y1, 'g-')\n",
    "ax2.plot(x, y2, 'b-')\n",
    "\n",
    "ax1.set_xlabel('Sites')\n",
    "ax1.set_ylabel('ROI', color='g')\n",
    "ax2.set_ylabel('Impressions to Conversions', color='b')\n",
    "plt.title(\"The relationship between Impressions to Conversions and ROI\"\n",
    "          , size=15, weight=\"bold\")\n",
    "\n",
    "plt.show()"
   ]
  },
  {
   "cell_type": "code",
   "execution_count": null,
   "metadata": {},
   "outputs": [],
   "source": []
  },
  {
   "cell_type": "code",
   "execution_count": null,
   "metadata": {},
   "outputs": [],
   "source": []
  },
  {
   "cell_type": "code",
   "execution_count": null,
   "metadata": {},
   "outputs": [],
   "source": []
  },
  {
   "cell_type": "code",
   "execution_count": null,
   "metadata": {},
   "outputs": [],
   "source": []
  }
 ],
 "metadata": {
  "kernelspec": {
   "display_name": "Python 3",
   "language": "python",
   "name": "python3"
  },
  "language_info": {
   "codemirror_mode": {
    "name": "ipython",
    "version": 3
   },
   "file_extension": ".py",
   "mimetype": "text/x-python",
   "name": "python",
   "nbconvert_exporter": "python",
   "pygments_lexer": "ipython3",
   "version": "3.7.6"
  }
 },
 "nbformat": 4,
 "nbformat_minor": 4
}
